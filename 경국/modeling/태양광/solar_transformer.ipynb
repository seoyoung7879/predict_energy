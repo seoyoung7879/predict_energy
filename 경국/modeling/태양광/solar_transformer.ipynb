{
 "cells": [
  {
   "cell_type": "code",
   "execution_count": 35,
   "id": "58b13ed4",
   "metadata": {},
   "outputs": [],
   "source": [
    "# ✅ 0. CSV 로딩 및 전처리 (df_solar_final_sorted.csv 기반)\n",
    "import pandas as pd\n",
    "import numpy as np\n",
    "\n",
    "# 필요한 열만 불러오기\n",
    "usecols = [\n",
    "    '발전구분', '설비용량(MW)', '연식(년)', 'year', 'month', 'day', 'hour',\n",
    "    '기온(°C)', '풍속(m/s)', '풍향(16방위)', '하늘상태', '습도(%)', '강수량(mm)', '적설(cm)', '발전량(kWh)'\n",
    "]\n",
    "df = pd.read_csv(\"df_solar_final_sorted.csv\", usecols=usecols)\n",
    "\n",
    "# 발전소별로 그룹화\n",
    "dynamic_x_list = []\n",
    "static_x_list = []\n",
    "labels_list = []\n",
    "\n",
    "for plant, group in df.groupby('발전구분'):\n",
    "    group = group.sort_values(by=['year', 'month', 'day', 'hour'])\n",
    "    day_groups = group.groupby(['year', 'month', 'day'])\n",
    "    for (y, m, d), day_data in day_groups:\n",
    "        if len(day_data) != 24:\n",
    "            continue\n",
    "        day_data = day_data.sort_values('hour')\n",
    "        dyn = day_data[['기온(°C)', '풍속(m/s)', '풍향(16방위)', '하늘상태', '습도(%)', '강수량(mm)', '적설(cm)']].values\n",
    "        dynamic_x_list.append(dyn)\n",
    "        static_x_list.append([day_data.iloc[0]['설비용량(MW)'], day_data.iloc[0]['연식(년)']])\n",
    "        labels_list.append(day_data['발전량(kWh)'].values)\n",
    "\n",
    "# numpy 배열로 변환\n",
    "dynamic_x = np.stack(dynamic_x_list)\n",
    "static_x = np.stack(static_x_list)\n",
    "labels = np.stack(labels_list)\n",
    "\n",
    "# ✅ NaN 제거\n",
    "nan_mask_labels = ~np.isnan(labels).any(axis=1)\n",
    "nan_mask_dynamic = ~np.isnan(dynamic_x).any(axis=(1, 2))\n",
    "nan_mask_static = ~np.isnan(static_x).any(axis=1)\n",
    "valid_mask = nan_mask_labels & nan_mask_dynamic & nan_mask_static\n",
    "\n",
    "dynamic_x = dynamic_x[valid_mask]\n",
    "static_x = static_x[valid_mask]\n",
    "labels = labels[valid_mask]"
   ]
  },
  {
   "cell_type": "code",
   "execution_count": 37,
   "id": "4dc295ce",
   "metadata": {},
   "outputs": [],
   "source": [
    "# ✅ 1. 라이브러리 불러오기\n",
    "import torch\n",
    "import torch.nn as nn\n",
    "import torch.optim as optim\n",
    "from torch.utils.data import Dataset, DataLoader\n",
    "from sklearn.model_selection import train_test_split\n",
    "from sklearn.metrics import mean_absolute_error, mean_squared_error, r2_score\n",
    "import matplotlib.pyplot as plt\n",
    "import random\n",
    "\n",
    "# ✅ 시드 고정\n",
    "def set_seed(seed=42):\n",
    "    random.seed(seed)\n",
    "    np.random.seed(seed)\n",
    "    torch.manual_seed(seed)\n",
    "    torch.cuda.manual_seed_all(seed)\n",
    "    torch.backends.cudnn.deterministic = True\n",
    "    torch.backends.cudnn.benchmark = False\n",
    "set_seed()\n",
    "\n",
    "# ✅ 2. Transformer 모델 정의\n",
    "class SolarForecastTransformer(nn.Module):\n",
    "    def __init__(self, input_dim, model_dim=128, num_heads=4, num_layers=2, dropout=0.1, output_dim=24):\n",
    "        super(SolarForecastTransformer, self).__init__()\n",
    "        self.input_projection = nn.Linear(input_dim, model_dim)\n",
    "        encoder_layer = nn.TransformerEncoderLayer(d_model=model_dim, nhead=num_heads, dropout=dropout, batch_first=True)\n",
    "        self.transformer_encoder = nn.TransformerEncoder(encoder_layer, num_layers=num_layers)\n",
    "        self.static_projection = nn.Linear(2, model_dim)\n",
    "        self.output_layer = nn.Linear(model_dim, output_dim)\n",
    "\n",
    "    def forward(self, dynamic_x, static_x):\n",
    "        x = self.input_projection(dynamic_x)\n",
    "        x = self.transformer_encoder(x)\n",
    "        x = x.mean(dim=1)\n",
    "        static_emb = self.static_projection(static_x)\n",
    "        fused = x + static_emb\n",
    "        out = self.output_layer(fused)\n",
    "        return out\n",
    "\n",
    "# ✅ 3. Custom Dataset 정의\n",
    "class SolarDataset(Dataset):\n",
    "    def __init__(self, dynamic_x, static_x, y):\n",
    "        self.dynamic_x = torch.tensor(dynamic_x, dtype=torch.float32)\n",
    "        self.static_x = torch.tensor(static_x, dtype=torch.float32)\n",
    "        self.y = torch.tensor(y, dtype=torch.float32)\n",
    "\n",
    "    def __len__(self):\n",
    "        return len(self.y)\n",
    "\n",
    "    def __getitem__(self, idx):\n",
    "        return self.dynamic_x[idx], self.static_x[idx], self.y[idx]\n",
    "\n",
    "# ✅ 4. 학습 및 평가 함수 정의\n",
    "\n",
    "def train_model(model, dataloader, optimizer, criterion, epoch, total_epochs, repeat, total_repeats):\n",
    "    model.train()\n",
    "    total_loss = 0\n",
    "    for i, (dynamic_x, static_x, y) in enumerate(dataloader):\n",
    "        optimizer.zero_grad()\n",
    "        outputs = model(dynamic_x, static_x)\n",
    "        loss = criterion(outputs, y)\n",
    "        loss.backward()\n",
    "        optimizer.step()\n",
    "        total_loss += loss.item()\n",
    "\n",
    "    print(f\"[Repeat {repeat}/{total_repeats}] Epoch {epoch}/{total_epochs} - Loss: {total_loss / len(dataloader):.4f}\")\n",
    "    return total_loss / len(dataloader)\n",
    "\n",
    "def evaluate_model(model, dataloader):\n",
    "    model.eval()\n",
    "    preds, trues = [], []\n",
    "    with torch.no_grad():\n",
    "        for dynamic_x, static_x, y in dataloader:\n",
    "            outputs = model(dynamic_x, static_x)\n",
    "            preds.append(outputs.numpy())\n",
    "            trues.append(y.numpy())\n",
    "    preds = np.vstack(preds)\n",
    "    trues = np.vstack(trues)\n",
    "    mae = mean_absolute_error(trues, preds)\n",
    "    rmse = mean_squared_error(trues, preds, squared=False)\n",
    "    r2 = r2_score(trues, preds)\n",
    "    return mae, rmse, r2, preds, trues\n",
    "\n",
    "# ✅ 5. 학습 실행 함수\n",
    "\n",
    "def run_experiment(dynamic_x, static_x, y):\n",
    "    X_train, X_test, s_train, s_test, y_train, y_test = train_test_split(dynamic_x, static_x, y, test_size=0.2, random_state=42)\n",
    "    train_dataset = SolarDataset(X_train, s_train, y_train)\n",
    "    test_dataset = SolarDataset(X_test, s_test, y_test)\n",
    "    train_loader = DataLoader(train_dataset, batch_size=32, shuffle=True)\n",
    "    test_loader = DataLoader(test_dataset, batch_size=32, shuffle=False)\n",
    "\n",
    "    best_rmse = float('inf')\n",
    "    best_model = None\n",
    "    best_config = None\n",
    "    n_repeat = 3\n",
    "\n",
    "    for repeat in range(1, n_repeat + 1):\n",
    "        print(f\"\\n▶ Repeat {repeat}/{n_repeat} 시작\")\n",
    "        for model_dim in [64, 128]:\n",
    "            for lr in [1e-3, 5e-4]:\n",
    "                print(f\"Training with model_dim={model_dim}, lr={lr}\")\n",
    "                model = SolarForecastTransformer(input_dim=X_train.shape[2], model_dim=model_dim)\n",
    "                optimizer = optim.Adam(model.parameters(), lr=lr)\n",
    "                criterion = nn.MSELoss()\n",
    "\n",
    "                total_epochs = 10\n",
    "\n",
    "                for epoch in range(1, total_epochs + 1):\n",
    "                    loss = train_model(model, train_loader, optimizer, criterion, epoch, total_epochs, repeat, n_repeat)\n",
    "\n",
    "                mae, rmse, r2, _, _ = evaluate_model(model, test_loader)\n",
    "                print(f\"Evaluation → MAE: {mae:.3f}, RMSE: {rmse:.3f}, R²: {r2:.3f}\")\n",
    "\n",
    "                if rmse < best_rmse:\n",
    "                    best_rmse = rmse\n",
    "                    best_model = model\n",
    "                    best_config = {'model_dim': model_dim, 'lr': lr}\n",
    "\n",
    "    print(\"Best config:\", best_config)\n",
    "    return best_model, test_loader\n",
    "\n",
    "# ✅ 6. 시각화 함수\n",
    "\n",
    "def plot_sample_prediction(model, test_loader, index=0):\n",
    "    model.eval()\n",
    "    all_data = list(test_loader)\n",
    "    dx, sx, y_true = all_data[index]\n",
    "    with torch.no_grad():\n",
    "        pred = model(dx, sx).numpy()\n",
    "        true = y_true.numpy()\n",
    "    plt.figure(figsize=(12, 4))\n",
    "    plt.plot(true[0], label='Actual')\n",
    "    plt.plot(pred[0], label='Predicted')\n",
    "    plt.title(f\"Sample {index} - 발전량 예측\")\n",
    "    plt.xlabel(\"Hour\")\n",
    "    plt.ylabel(\"kWh\")\n",
    "    plt.legend()\n",
    "    plt.grid(True)\n",
    "    plt.show()"
   ]
  },
  {
   "cell_type": "code",
   "execution_count": 38,
   "id": "8a6cdd27",
   "metadata": {},
   "outputs": [
    {
     "name": "stdout",
     "output_type": "stream",
     "text": [
      "\n",
      "▶ Repeat 1/3 시작\n",
      "Training with model_dim=64, lr=0.001\n",
      "[Repeat 1/3] Epoch 1/10 - Loss: 4096168.9756\n",
      "[Repeat 1/3] Epoch 2/10 - Loss: 3821901.4135\n",
      "[Repeat 1/3] Epoch 3/10 - Loss: 3391713.2755\n",
      "[Repeat 1/3] Epoch 4/10 - Loss: 2927974.1482\n",
      "[Repeat 1/3] Epoch 5/10 - Loss: 2516159.3483\n",
      "[Repeat 1/3] Epoch 6/10 - Loss: 2203941.9089\n",
      "[Repeat 1/3] Epoch 7/10 - Loss: 1990079.4386\n",
      "[Repeat 1/3] Epoch 8/10 - Loss: 1822234.9943\n",
      "[Repeat 1/3] Epoch 9/10 - Loss: 1708655.7660\n",
      "[Repeat 1/3] Epoch 10/10 - Loss: 1590745.1185\n"
     ]
    },
    {
     "name": "stderr",
     "output_type": "stream",
     "text": [
      "c:\\anaconda3\\Lib\\site-packages\\sklearn\\metrics\\_regression.py:483: FutureWarning: 'squared' is deprecated in version 1.4 and will be removed in 1.6. To calculate the root mean squared error, use the function'root_mean_squared_error'.\n",
      "  warnings.warn(\n"
     ]
    },
    {
     "name": "stdout",
     "output_type": "stream",
     "text": [
      "Evaluation → MAE: 568.277, RMSE: 760.369, R²: 0.151\n",
      "Training with model_dim=64, lr=0.0005\n",
      "[Repeat 1/3] Epoch 1/10 - Loss: 4136320.4421\n",
      "[Repeat 1/3] Epoch 2/10 - Loss: 4051285.5274\n",
      "[Repeat 1/3] Epoch 3/10 - Loss: 3905875.7919\n",
      "[Repeat 1/3] Epoch 4/10 - Loss: 3713032.1810\n",
      "[Repeat 1/3] Epoch 5/10 - Loss: 3507846.2389\n",
      "[Repeat 1/3] Epoch 6/10 - Loss: 3276045.3418\n",
      "[Repeat 1/3] Epoch 7/10 - Loss: 3048450.1928\n",
      "[Repeat 1/3] Epoch 8/10 - Loss: 2830328.2887\n",
      "[Repeat 1/3] Epoch 9/10 - Loss: 2627761.9981\n",
      "[Repeat 1/3] Epoch 10/10 - Loss: 2444677.4272\n"
     ]
    },
    {
     "name": "stderr",
     "output_type": "stream",
     "text": [
      "c:\\anaconda3\\Lib\\site-packages\\sklearn\\metrics\\_regression.py:483: FutureWarning: 'squared' is deprecated in version 1.4 and will be removed in 1.6. To calculate the root mean squared error, use the function'root_mean_squared_error'.\n",
      "  warnings.warn(\n"
     ]
    },
    {
     "name": "stdout",
     "output_type": "stream",
     "text": [
      "Evaluation → MAE: 575.265, RMSE: 921.518, R²: 0.052\n",
      "Training with model_dim=128, lr=0.001\n",
      "[Repeat 1/3] Epoch 1/10 - Loss: 4031567.9581\n",
      "[Repeat 1/3] Epoch 2/10 - Loss: 3534360.5979\n",
      "[Repeat 1/3] Epoch 3/10 - Loss: 2884669.6806\n",
      "[Repeat 1/3] Epoch 4/10 - Loss: 2342588.1374\n",
      "[Repeat 1/3] Epoch 5/10 - Loss: 2008269.6397\n",
      "[Repeat 1/3] Epoch 6/10 - Loss: 1796121.4703\n",
      "[Repeat 1/3] Epoch 7/10 - Loss: 1615812.5949\n",
      "[Repeat 1/3] Epoch 8/10 - Loss: 1469466.4811\n",
      "[Repeat 1/3] Epoch 9/10 - Loss: 1310843.4867\n",
      "[Repeat 1/3] Epoch 10/10 - Loss: 1216098.1881\n"
     ]
    },
    {
     "name": "stderr",
     "output_type": "stream",
     "text": [
      "c:\\anaconda3\\Lib\\site-packages\\sklearn\\metrics\\_regression.py:483: FutureWarning: 'squared' is deprecated in version 1.4 and will be removed in 1.6. To calculate the root mean squared error, use the function'root_mean_squared_error'.\n",
      "  warnings.warn(\n"
     ]
    },
    {
     "name": "stdout",
     "output_type": "stream",
     "text": [
      "Evaluation → MAE: 458.342, RMSE: 666.608, R²: 0.213\n",
      "Training with model_dim=128, lr=0.0005\n",
      "[Repeat 1/3] Epoch 1/10 - Loss: 4112364.4108\n",
      "[Repeat 1/3] Epoch 2/10 - Loss: 3922553.7687\n",
      "[Repeat 1/3] Epoch 3/10 - Loss: 3652587.4375\n",
      "[Repeat 1/3] Epoch 4/10 - Loss: 3339025.4954\n",
      "[Repeat 1/3] Epoch 5/10 - Loss: 3014618.5774\n",
      "[Repeat 1/3] Epoch 6/10 - Loss: 2711526.7146\n",
      "[Repeat 1/3] Epoch 7/10 - Loss: 2459109.9322\n",
      "[Repeat 1/3] Epoch 8/10 - Loss: 2243841.5846\n",
      "[Repeat 1/3] Epoch 9/10 - Loss: 2082792.6662\n",
      "[Repeat 1/3] Epoch 10/10 - Loss: 1953466.0549\n"
     ]
    },
    {
     "name": "stderr",
     "output_type": "stream",
     "text": [
      "c:\\anaconda3\\Lib\\site-packages\\sklearn\\metrics\\_regression.py:483: FutureWarning: 'squared' is deprecated in version 1.4 and will be removed in 1.6. To calculate the root mean squared error, use the function'root_mean_squared_error'.\n",
      "  warnings.warn(\n"
     ]
    },
    {
     "name": "stdout",
     "output_type": "stream",
     "text": [
      "Evaluation → MAE: 611.339, RMSE: 838.712, R²: 0.128\n",
      "\n",
      "▶ Repeat 2/3 시작\n",
      "Training with model_dim=64, lr=0.001\n",
      "[Repeat 2/3] Epoch 1/10 - Loss: 4095174.8133\n",
      "[Repeat 2/3] Epoch 2/10 - Loss: 3834769.2351\n",
      "[Repeat 2/3] Epoch 3/10 - Loss: 3400295.0318\n",
      "[Repeat 2/3] Epoch 4/10 - Loss: 2924317.5044\n",
      "[Repeat 2/3] Epoch 5/10 - Loss: 2514385.5739\n",
      "[Repeat 2/3] Epoch 6/10 - Loss: 2205269.6890\n",
      "[Repeat 2/3] Epoch 7/10 - Loss: 1993140.4306\n",
      "[Repeat 2/3] Epoch 8/10 - Loss: 1829242.5922\n",
      "[Repeat 2/3] Epoch 9/10 - Loss: 1710588.2767\n",
      "[Repeat 2/3] Epoch 10/10 - Loss: 1593052.1639\n"
     ]
    },
    {
     "name": "stderr",
     "output_type": "stream",
     "text": [
      "c:\\anaconda3\\Lib\\site-packages\\sklearn\\metrics\\_regression.py:483: FutureWarning: 'squared' is deprecated in version 1.4 and will be removed in 1.6. To calculate the root mean squared error, use the function'root_mean_squared_error'.\n",
      "  warnings.warn(\n"
     ]
    },
    {
     "name": "stdout",
     "output_type": "stream",
     "text": [
      "Evaluation → MAE: 558.911, RMSE: 757.512, R²: 0.182\n",
      "Training with model_dim=64, lr=0.0005\n",
      "[Repeat 2/3] Epoch 1/10 - Loss: 4131777.7294\n",
      "[Repeat 2/3] Epoch 2/10 - Loss: 4037358.0015\n",
      "[Repeat 2/3] Epoch 3/10 - Loss: 3889925.3255\n",
      "[Repeat 2/3] Epoch 4/10 - Loss: 3713465.1402\n",
      "[Repeat 2/3] Epoch 5/10 - Loss: 3491342.4446\n",
      "[Repeat 2/3] Epoch 6/10 - Loss: 3265502.2138\n",
      "[Repeat 2/3] Epoch 7/10 - Loss: 3040379.6199\n",
      "[Repeat 2/3] Epoch 8/10 - Loss: 2826904.1018\n",
      "[Repeat 2/3] Epoch 9/10 - Loss: 2625275.6364\n",
      "[Repeat 2/3] Epoch 10/10 - Loss: 2445630.0133\n"
     ]
    },
    {
     "name": "stderr",
     "output_type": "stream",
     "text": [
      "c:\\anaconda3\\Lib\\site-packages\\sklearn\\metrics\\_regression.py:483: FutureWarning: 'squared' is deprecated in version 1.4 and will be removed in 1.6. To calculate the root mean squared error, use the function'root_mean_squared_error'.\n",
      "  warnings.warn(\n"
     ]
    },
    {
     "name": "stdout",
     "output_type": "stream",
     "text": [
      "Evaluation → MAE: 575.727, RMSE: 921.807, R²: 0.072\n",
      "Training with model_dim=128, lr=0.001\n",
      "[Repeat 2/3] Epoch 1/10 - Loss: 4028504.6189\n",
      "[Repeat 2/3] Epoch 2/10 - Loss: 3538296.2694\n",
      "[Repeat 2/3] Epoch 3/10 - Loss: 2864787.6582\n",
      "[Repeat 2/3] Epoch 4/10 - Loss: 2318193.6315\n",
      "[Repeat 2/3] Epoch 5/10 - Loss: 1968356.0812\n",
      "[Repeat 2/3] Epoch 6/10 - Loss: 1756123.3304\n",
      "[Repeat 2/3] Epoch 7/10 - Loss: 1592609.6946\n",
      "[Repeat 2/3] Epoch 8/10 - Loss: 1434627.8868\n",
      "[Repeat 2/3] Epoch 9/10 - Loss: 1295840.1210\n",
      "[Repeat 2/3] Epoch 10/10 - Loss: 1179863.5490\n"
     ]
    },
    {
     "name": "stderr",
     "output_type": "stream",
     "text": [
      "c:\\anaconda3\\Lib\\site-packages\\sklearn\\metrics\\_regression.py:483: FutureWarning: 'squared' is deprecated in version 1.4 and will be removed in 1.6. To calculate the root mean squared error, use the function'root_mean_squared_error'.\n",
      "  warnings.warn(\n"
     ]
    },
    {
     "name": "stdout",
     "output_type": "stream",
     "text": [
      "Evaluation → MAE: 450.888, RMSE: 657.686, R²: 0.241\n",
      "Training with model_dim=128, lr=0.0005\n",
      "[Repeat 2/3] Epoch 1/10 - Loss: 4112497.2233\n",
      "[Repeat 2/3] Epoch 2/10 - Loss: 3935729.4104\n",
      "[Repeat 2/3] Epoch 3/10 - Loss: 3666082.4760\n",
      "[Repeat 2/3] Epoch 4/10 - Loss: 3352505.8548\n",
      "[Repeat 2/3] Epoch 5/10 - Loss: 3021658.5127\n",
      "[Repeat 2/3] Epoch 6/10 - Loss: 2709498.6543\n",
      "[Repeat 2/3] Epoch 7/10 - Loss: 2440374.5473\n",
      "[Repeat 2/3] Epoch 8/10 - Loss: 2229705.3908\n",
      "[Repeat 2/3] Epoch 9/10 - Loss: 2065974.5046\n",
      "[Repeat 2/3] Epoch 10/10 - Loss: 1934694.3148\n"
     ]
    },
    {
     "name": "stderr",
     "output_type": "stream",
     "text": [
      "c:\\anaconda3\\Lib\\site-packages\\sklearn\\metrics\\_regression.py:483: FutureWarning: 'squared' is deprecated in version 1.4 and will be removed in 1.6. To calculate the root mean squared error, use the function'root_mean_squared_error'.\n",
      "  warnings.warn(\n"
     ]
    },
    {
     "name": "stdout",
     "output_type": "stream",
     "text": [
      "Evaluation → MAE: 609.901, RMSE: 833.775, R²: 0.118\n",
      "\n",
      "▶ Repeat 3/3 시작\n",
      "Training with model_dim=64, lr=0.001\n",
      "[Repeat 3/3] Epoch 1/10 - Loss: 4093945.4253\n",
      "[Repeat 3/3] Epoch 2/10 - Loss: 3818758.2809\n",
      "[Repeat 3/3] Epoch 3/10 - Loss: 3376081.2149\n",
      "[Repeat 3/3] Epoch 4/10 - Loss: 2893424.9889\n",
      "[Repeat 3/3] Epoch 5/10 - Loss: 2472606.7199\n",
      "[Repeat 3/3] Epoch 6/10 - Loss: 2151786.7725\n",
      "[Repeat 3/3] Epoch 7/10 - Loss: 1936804.1288\n",
      "[Repeat 3/3] Epoch 8/10 - Loss: 1782879.5240\n",
      "[Repeat 3/3] Epoch 9/10 - Loss: 1661839.1086\n",
      "[Repeat 3/3] Epoch 10/10 - Loss: 1543956.8615\n"
     ]
    },
    {
     "name": "stderr",
     "output_type": "stream",
     "text": [
      "c:\\anaconda3\\Lib\\site-packages\\sklearn\\metrics\\_regression.py:483: FutureWarning: 'squared' is deprecated in version 1.4 and will be removed in 1.6. To calculate the root mean squared error, use the function'root_mean_squared_error'.\n",
      "  warnings.warn(\n"
     ]
    },
    {
     "name": "stdout",
     "output_type": "stream",
     "text": [
      "Evaluation → MAE: 534.572, RMSE: 744.827, R²: 0.177\n",
      "Training with model_dim=64, lr=0.0005\n",
      "[Repeat 3/3] Epoch 1/10 - Loss: 4140837.5282\n",
      "[Repeat 3/3] Epoch 2/10 - Loss: 4062666.1658\n",
      "[Repeat 3/3] Epoch 3/10 - Loss: 3916588.4615\n",
      "[Repeat 3/3] Epoch 4/10 - Loss: 3727763.0911\n",
      "[Repeat 3/3] Epoch 5/10 - Loss: 3515846.1947\n",
      "[Repeat 3/3] Epoch 6/10 - Loss: 3293195.7671\n",
      "[Repeat 3/3] Epoch 7/10 - Loss: 3053528.9184\n",
      "[Repeat 3/3] Epoch 8/10 - Loss: 2836766.7046\n",
      "[Repeat 3/3] Epoch 9/10 - Loss: 2638225.3545\n",
      "[Repeat 3/3] Epoch 10/10 - Loss: 2459254.6490\n"
     ]
    },
    {
     "name": "stderr",
     "output_type": "stream",
     "text": [
      "c:\\anaconda3\\Lib\\site-packages\\sklearn\\metrics\\_regression.py:483: FutureWarning: 'squared' is deprecated in version 1.4 and will be removed in 1.6. To calculate the root mean squared error, use the function'root_mean_squared_error'.\n",
      "  warnings.warn(\n"
     ]
    },
    {
     "name": "stdout",
     "output_type": "stream",
     "text": [
      "Evaluation → MAE: 573.652, RMSE: 922.181, R²: 0.063\n",
      "Training with model_dim=128, lr=0.001\n",
      "[Repeat 3/3] Epoch 1/10 - Loss: 4028653.9522\n",
      "[Repeat 3/3] Epoch 2/10 - Loss: 3524537.5084\n",
      "[Repeat 3/3] Epoch 3/10 - Loss: 2865094.8079\n",
      "[Repeat 3/3] Epoch 4/10 - Loss: 2306645.6875\n",
      "[Repeat 3/3] Epoch 5/10 - Loss: 1961646.5995\n",
      "[Repeat 3/3] Epoch 6/10 - Loss: 1745842.2637\n",
      "[Repeat 3/3] Epoch 7/10 - Loss: 1583157.0238\n",
      "[Repeat 3/3] Epoch 8/10 - Loss: 1420748.3508\n",
      "[Repeat 3/3] Epoch 9/10 - Loss: 1283692.7729\n",
      "[Repeat 3/3] Epoch 10/10 - Loss: 1173797.1763\n"
     ]
    },
    {
     "name": "stderr",
     "output_type": "stream",
     "text": [
      "c:\\anaconda3\\Lib\\site-packages\\sklearn\\metrics\\_regression.py:483: FutureWarning: 'squared' is deprecated in version 1.4 and will be removed in 1.6. To calculate the root mean squared error, use the function'root_mean_squared_error'.\n",
      "  warnings.warn(\n"
     ]
    },
    {
     "name": "stdout",
     "output_type": "stream",
     "text": [
      "Evaluation → MAE: 452.519, RMSE: 657.101, R²: 0.241\n",
      "Training with model_dim=128, lr=0.0005\n",
      "[Repeat 3/3] Epoch 1/10 - Loss: 4108515.3426\n",
      "[Repeat 3/3] Epoch 2/10 - Loss: 3921090.6875\n",
      "[Repeat 3/3] Epoch 3/10 - Loss: 3663076.4162\n",
      "[Repeat 3/3] Epoch 4/10 - Loss: 3336647.4089\n",
      "[Repeat 3/3] Epoch 5/10 - Loss: 3015138.2809\n",
      "[Repeat 3/3] Epoch 6/10 - Loss: 2700652.6559\n",
      "[Repeat 3/3] Epoch 7/10 - Loss: 2431663.2363\n",
      "[Repeat 3/3] Epoch 8/10 - Loss: 2216736.2967\n",
      "[Repeat 3/3] Epoch 9/10 - Loss: 2052370.0816\n",
      "[Repeat 3/3] Epoch 10/10 - Loss: 1927148.5701\n"
     ]
    },
    {
     "name": "stderr",
     "output_type": "stream",
     "text": [
      "c:\\anaconda3\\Lib\\site-packages\\sklearn\\metrics\\_regression.py:483: FutureWarning: 'squared' is deprecated in version 1.4 and will be removed in 1.6. To calculate the root mean squared error, use the function'root_mean_squared_error'.\n",
      "  warnings.warn(\n",
      "c:\\anaconda3\\Lib\\site-packages\\IPython\\core\\pylabtools.py:170: UserWarning: Glyph 48156 (\\N{HANGUL SYLLABLE BAL}) missing from current font.\n",
      "  fig.canvas.print_figure(bytes_io, **kw)\n",
      "c:\\anaconda3\\Lib\\site-packages\\IPython\\core\\pylabtools.py:170: UserWarning: Glyph 51204 (\\N{HANGUL SYLLABLE JEON}) missing from current font.\n",
      "  fig.canvas.print_figure(bytes_io, **kw)\n",
      "c:\\anaconda3\\Lib\\site-packages\\IPython\\core\\pylabtools.py:170: UserWarning: Glyph 47049 (\\N{HANGUL SYLLABLE RYANG}) missing from current font.\n",
      "  fig.canvas.print_figure(bytes_io, **kw)\n",
      "c:\\anaconda3\\Lib\\site-packages\\IPython\\core\\pylabtools.py:170: UserWarning: Glyph 50696 (\\N{HANGUL SYLLABLE YE}) missing from current font.\n",
      "  fig.canvas.print_figure(bytes_io, **kw)\n",
      "c:\\anaconda3\\Lib\\site-packages\\IPython\\core\\pylabtools.py:170: UserWarning: Glyph 52769 (\\N{HANGUL SYLLABLE CEUG}) missing from current font.\n",
      "  fig.canvas.print_figure(bytes_io, **kw)\n"
     ]
    },
    {
     "name": "stdout",
     "output_type": "stream",
     "text": [
      "Evaluation → MAE: 603.427, RMSE: 830.742, R²: 0.122\n",
      "Best config: {'model_dim': 128, 'lr': 0.001}\n"
     ]
    },
    {
     "data": {
      "image/png": "[encoded data removed]",
      "text/plain": [
       "<Figure size 1200x400 with 1 Axes>"
      ]
     },
     "metadata": {},
     "output_type": "display_data"
    }
   ],
   "source": [
    "# ✅ 7. 학습 실행 및 예측 시각화\n",
    "final_model, test_loader = run_experiment(dynamic_x, static_x, labels)\n",
    "plot_sample_prediction(final_model, test_loader, index=0)"
   ]
  }
 ],
 "metadata": {
  "kernelspec": {
   "display_name": "base",
   "language": "python",
   "name": "python3"
  },
  "language_info": {
   "codemirror_mode": {
    "name": "ipython",
    "version": 3
   },
   "file_extension": ".py",
   "mimetype": "text/x-python",
   "name": "python",
   "nbconvert_exporter": "python",
   "pygments_lexer": "ipython3",
   "version": "3.12.4"
  }
 },
 "nbformat": 4,
 "nbformat_minor": 5
}
