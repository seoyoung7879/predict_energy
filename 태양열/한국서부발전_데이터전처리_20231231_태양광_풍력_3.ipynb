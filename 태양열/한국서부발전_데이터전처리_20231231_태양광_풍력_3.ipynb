{
 "cells": [
  {
   "cell_type": "code",
   "execution_count": 5,
   "id": "774e3c67-3742-479d-8c72-ab8705271ab0",
   "metadata": {},
   "outputs": [],
   "source": [
    "import pandas as pd"
   ]
  },
  {
   "cell_type": "code",
   "execution_count": 7,
   "id": "bc35bd14-b0cd-40ad-8d2b-52af6a1ded34",
   "metadata": {},
   "outputs": [],
   "source": [
    "df = pd.read_csv(\"C:/Users/kelly/OneDrive/바탕 화면/태양광/최종사용/한국서부발전_시간별_발전량_utf-8_20231231.csv\", encoding = \"utf-8\")"
   ]
  },
  {
   "cell_type": "code",
   "execution_count": 9,
   "id": "23c8ef17-cc64-492c-bdae-9953de80df2f",
   "metadata": {},
   "outputs": [
    {
     "data": {
      "text/html": [
       "<div>\n",
       "<style scoped>\n",
       "    .dataframe tbody tr th:only-of-type {\n",
       "        vertical-align: middle;\n",
       "    }\n",
       "\n",
       "    .dataframe tbody tr th {\n",
       "        vertical-align: top;\n",
       "    }\n",
       "\n",
       "    .dataframe thead th {\n",
       "        text-align: right;\n",
       "    }\n",
       "</style>\n",
       "<table border=\"1\" class=\"dataframe\">\n",
       "  <thead>\n",
       "    <tr style=\"text-align: right;\">\n",
       "      <th></th>\n",
       "      <th>날짜</th>\n",
       "      <th>발전기명</th>\n",
       "      <th>설비용량(MW)</th>\n",
       "      <th>시간</th>\n",
       "      <th>해당 시간 발전량(kWh)</th>\n",
       "      <th>해당날짜 총 발전량(kMh)</th>\n",
       "      <th>주소지</th>\n",
       "    </tr>\n",
       "  </thead>\n",
       "  <tbody>\n",
       "    <tr>\n",
       "      <th>0</th>\n",
       "      <td>2023-01-01</td>\n",
       "      <td>(군산)영암F1태양광</td>\n",
       "      <td>13.296</td>\n",
       "      <td>01시</td>\n",
       "      <td>0.0</td>\n",
       "      <td>40588.8</td>\n",
       "      <td>전라남도 영암군 삼호읍 에프원로 2 영암 F1 태양광 발전소</td>\n",
       "    </tr>\n",
       "    <tr>\n",
       "      <th>1</th>\n",
       "      <td>2023-01-02</td>\n",
       "      <td>(군산)영암F1태양광</td>\n",
       "      <td>13.296</td>\n",
       "      <td>01시</td>\n",
       "      <td>0.0</td>\n",
       "      <td>57024.0</td>\n",
       "      <td>전라남도 영암군 삼호읍 에프원로 2 영암 F1 태양광 발전소</td>\n",
       "    </tr>\n",
       "    <tr>\n",
       "      <th>2</th>\n",
       "      <td>2023-01-03</td>\n",
       "      <td>(군산)영암F1태양광</td>\n",
       "      <td>13.296</td>\n",
       "      <td>01시</td>\n",
       "      <td>0.0</td>\n",
       "      <td>48672.0</td>\n",
       "      <td>전라남도 영암군 삼호읍 에프원로 2 영암 F1 태양광 발전소</td>\n",
       "    </tr>\n",
       "  </tbody>\n",
       "</table>\n",
       "</div>"
      ],
      "text/plain": [
       "           날짜         발전기명  설비용량(MW)   시간  해당 시간 발전량(kWh)  해당날짜 총 발전량(kMh)  \\\n",
       "0  2023-01-01  (군산)영암F1태양광    13.296  01시             0.0          40588.8   \n",
       "1  2023-01-02  (군산)영암F1태양광    13.296  01시             0.0          57024.0   \n",
       "2  2023-01-03  (군산)영암F1태양광    13.296  01시             0.0          48672.0   \n",
       "\n",
       "                                 주소지  \n",
       "0  전라남도 영암군 삼호읍 에프원로 2 영암 F1 태양광 발전소  \n",
       "1  전라남도 영암군 삼호읍 에프원로 2 영암 F1 태양광 발전소  \n",
       "2  전라남도 영암군 삼호읍 에프원로 2 영암 F1 태양광 발전소  "
      ]
     },
     "execution_count": 9,
     "metadata": {},
     "output_type": "execute_result"
    }
   ],
   "source": [
    "df.head(3)"
   ]
  },
  {
   "cell_type": "code",
   "execution_count": 11,
   "id": "bbadb18b-d9b3-4e74-bff1-d5aee02d9447",
   "metadata": {},
   "outputs": [
    {
     "name": "stdout",
     "output_type": "stream",
     "text": [
      "<class 'pandas.core.frame.DataFrame'>\n",
      "RangeIndex: 52536 entries, 0 to 52535\n",
      "Data columns (total 7 columns):\n",
      " #   Column           Non-Null Count  Dtype  \n",
      "---  ------           --------------  -----  \n",
      " 0   날짜               52536 non-null  object \n",
      " 1   발전기명             52536 non-null  object \n",
      " 2   설비용량(MW)         52536 non-null  float64\n",
      " 3   시간               52536 non-null  object \n",
      " 4   해당 시간 발전량(kWh)   52536 non-null  float64\n",
      " 5   해당날짜 총 발전량(kMh)  52536 non-null  float64\n",
      " 6   주소지              52536 non-null  object \n",
      "dtypes: float64(3), object(4)\n",
      "memory usage: 2.8+ MB\n"
     ]
    }
   ],
   "source": [
    "df.info()"
   ]
  },
  {
   "cell_type": "code",
   "execution_count": 13,
   "id": "d6485326-60e5-403a-9033-056b7c44213e",
   "metadata": {},
   "outputs": [
    {
     "data": {
      "text/plain": [
       "array(['(군산)영암F1태양광', '(군산)삼랑진태양광', '장흥풍력', '화순풍력발전', '태안#9,10 수상태양광'],\n",
       "      dtype=object)"
      ]
     },
     "execution_count": 13,
     "metadata": {},
     "output_type": "execute_result"
    }
   ],
   "source": [
    "df[\"발전기명\"].unique()"
   ]
  },
  {
   "cell_type": "code",
   "execution_count": 15,
   "id": "9df4db4e-3717-4329-a203-06c2c28c8dc1",
   "metadata": {},
   "outputs": [],
   "source": [
    "#태양광인 행들만 추출\n",
    "df_solar = df[\n",
    "    df[\"발전기명\"].isin([\"(군산)영암F1태양광\", \"(군산)삼랑진태양광\", \"태안#9,10 수상태양광\"])\n",
    "]\n",
    "\n",
    "#풍력인 행들만 추출\n",
    "df_wind = df[\n",
    "    df[\"발전기명\"].isin([\"장흥풍력\", \"화순풍력발전\"])\n",
    "]"
   ]
  },
  {
   "cell_type": "code",
   "execution_count": 17,
   "id": "2ec1f34c-4848-4a3f-8bd9-66da9e38e728",
   "metadata": {},
   "outputs": [
    {
     "name": "stdout",
     "output_type": "stream",
     "text": [
      "<class 'pandas.core.frame.DataFrame'>\n",
      "Index: 35016 entries, 0 to 52535\n",
      "Data columns (total 7 columns):\n",
      " #   Column           Non-Null Count  Dtype  \n",
      "---  ------           --------------  -----  \n",
      " 0   날짜               35016 non-null  object \n",
      " 1   발전기명             35016 non-null  object \n",
      " 2   설비용량(MW)         35016 non-null  float64\n",
      " 3   시간               35016 non-null  object \n",
      " 4   해당 시간 발전량(kWh)   35016 non-null  float64\n",
      " 5   해당날짜 총 발전량(kMh)  35016 non-null  float64\n",
      " 6   주소지              35016 non-null  object \n",
      "dtypes: float64(3), object(4)\n",
      "memory usage: 2.1+ MB\n"
     ]
    }
   ],
   "source": [
    "df_solar.info()"
   ]
  },
  {
   "cell_type": "code",
   "execution_count": 19,
   "id": "b4870d8b-4b8e-4098-8a7f-c4096583921b",
   "metadata": {},
   "outputs": [
    {
     "name": "stdout",
     "output_type": "stream",
     "text": [
      "<class 'pandas.core.frame.DataFrame'>\n",
      "Index: 17520 entries, 1095 to 52171\n",
      "Data columns (total 7 columns):\n",
      " #   Column           Non-Null Count  Dtype  \n",
      "---  ------           --------------  -----  \n",
      " 0   날짜               17520 non-null  object \n",
      " 1   발전기명             17520 non-null  object \n",
      " 2   설비용량(MW)         17520 non-null  float64\n",
      " 3   시간               17520 non-null  object \n",
      " 4   해당 시간 발전량(kWh)   17520 non-null  float64\n",
      " 5   해당날짜 총 발전량(kMh)  17520 non-null  float64\n",
      " 6   주소지              17520 non-null  object \n",
      "dtypes: float64(3), object(4)\n",
      "memory usage: 1.1+ MB\n"
     ]
    }
   ],
   "source": [
    "df_wind.info()"
   ]
  },
  {
   "cell_type": "code",
   "execution_count": 21,
   "id": "d4e0b8e8-acdd-4d19-a676-d13dc7ed6a4b",
   "metadata": {},
   "outputs": [],
   "source": [
    "df_solar.to_csv(\"한국서부발전_시간별발전량_태양광_20231231.csv\", index = False, encoding=\"utf-8-sig\")"
   ]
  },
  {
   "cell_type": "code",
   "execution_count": 23,
   "id": "3b9b4981-9b52-43c6-8918-1dc5704f0bd3",
   "metadata": {},
   "outputs": [],
   "source": [
    "df_wind.to_csv(\"한국서부발전_시간별발전량_풍력_20231231.csv\", index = False, encoding=\"utf-8-sig\")"
   ]
  },
  {
   "cell_type": "code",
   "execution_count": null,
   "id": "76c051fe-08b8-40ae-8f95-b5e087f3c026",
   "metadata": {},
   "outputs": [],
   "source": []
  }
 ],
 "metadata": {
  "kernelspec": {
   "display_name": "Python 3 (ipykernel)",
   "language": "python",
   "name": "python3"
  },
  "language_info": {
   "codemirror_mode": {
    "name": "ipython",
    "version": 3
   },
   "file_extension": ".py",
   "mimetype": "text/x-python",
   "name": "python",
   "nbconvert_exporter": "python",
   "pygments_lexer": "ipython3",
   "version": "3.12.4"
  }
 },
 "nbformat": 4,
 "nbformat_minor": 5
}
