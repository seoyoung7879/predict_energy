{
 "cells": [
  {
   "cell_type": "code",
   "execution_count": 2,
   "id": "31c4b6ba-7c9b-4c4d-a977-a75bebde7e96",
   "metadata": {},
   "outputs": [],
   "source": [
    "import pandas as pd"
   ]
  },
  {
   "cell_type": "code",
   "execution_count": 4,
   "id": "a1edd27c-539f-4e01-9b18-a1ae14842029",
   "metadata": {},
   "outputs": [],
   "source": [
    "df = pd.read_csv(\"C:/Users/kelly/OneDrive/바탕 화면/태양광/한국서부발전/한국서부발전(주)_신재생에너지발전량_20231231.csv\", encoding = \"cp949\")"
   ]
  },
  {
   "cell_type": "code",
   "execution_count": 6,
   "id": "4cdcdba2-7d00-4789-a590-59abaef4376b",
   "metadata": {},
   "outputs": [
    {
     "data": {
      "text/html": [
       "<div>\n",
       "<style scoped>\n",
       "    .dataframe tbody tr th:only-of-type {\n",
       "        vertical-align: middle;\n",
       "    }\n",
       "\n",
       "    .dataframe tbody tr th {\n",
       "        vertical-align: top;\n",
       "    }\n",
       "\n",
       "    .dataframe thead th {\n",
       "        text-align: right;\n",
       "    }\n",
       "</style>\n",
       "<table border=\"1\" class=\"dataframe\">\n",
       "  <thead>\n",
       "    <tr style=\"text-align: right;\">\n",
       "      <th></th>\n",
       "      <th>날짜</th>\n",
       "      <th>발전기명</th>\n",
       "      <th>용량_메가와트</th>\n",
       "      <th>01시</th>\n",
       "      <th>02시</th>\n",
       "      <th>03시</th>\n",
       "      <th>04시</th>\n",
       "      <th>05시</th>\n",
       "      <th>06시</th>\n",
       "      <th>07시</th>\n",
       "      <th>...</th>\n",
       "      <th>17시</th>\n",
       "      <th>18시</th>\n",
       "      <th>19시</th>\n",
       "      <th>20시</th>\n",
       "      <th>21시</th>\n",
       "      <th>22시</th>\n",
       "      <th>23시</th>\n",
       "      <th>24시</th>\n",
       "      <th>합계</th>\n",
       "      <th>주소지</th>\n",
       "    </tr>\n",
       "  </thead>\n",
       "  <tbody>\n",
       "    <tr>\n",
       "      <th>0</th>\n",
       "      <td>2023-01-01</td>\n",
       "      <td>(군산)영암F1태양광</td>\n",
       "      <td>13.296</td>\n",
       "      <td>0.0</td>\n",
       "      <td>0.0</td>\n",
       "      <td>0.0</td>\n",
       "      <td>0.0</td>\n",
       "      <td>0.0</td>\n",
       "      <td>0.0</td>\n",
       "      <td>0.0</td>\n",
       "      <td>...</td>\n",
       "      <td>1526.4</td>\n",
       "      <td>105.6</td>\n",
       "      <td>0.0</td>\n",
       "      <td>0.0</td>\n",
       "      <td>0.0</td>\n",
       "      <td>0.0</td>\n",
       "      <td>0.0</td>\n",
       "      <td>0.0</td>\n",
       "      <td>40588.8</td>\n",
       "      <td>전라남도 영암군 삼호읍 에프원로 2 영암 F1 태양광 발전소</td>\n",
       "    </tr>\n",
       "    <tr>\n",
       "      <th>1</th>\n",
       "      <td>2023-01-02</td>\n",
       "      <td>(군산)영암F1태양광</td>\n",
       "      <td>13.296</td>\n",
       "      <td>0.0</td>\n",
       "      <td>0.0</td>\n",
       "      <td>0.0</td>\n",
       "      <td>0.0</td>\n",
       "      <td>0.0</td>\n",
       "      <td>0.0</td>\n",
       "      <td>0.0</td>\n",
       "      <td>...</td>\n",
       "      <td>2563.2</td>\n",
       "      <td>182.4</td>\n",
       "      <td>0.0</td>\n",
       "      <td>0.0</td>\n",
       "      <td>0.0</td>\n",
       "      <td>0.0</td>\n",
       "      <td>0.0</td>\n",
       "      <td>0.0</td>\n",
       "      <td>57024.0</td>\n",
       "      <td>전라남도 영암군 삼호읍 에프원로 2 영암 F1 태양광 발전소</td>\n",
       "    </tr>\n",
       "    <tr>\n",
       "      <th>2</th>\n",
       "      <td>2023-01-03</td>\n",
       "      <td>(군산)영암F1태양광</td>\n",
       "      <td>13.296</td>\n",
       "      <td>0.0</td>\n",
       "      <td>0.0</td>\n",
       "      <td>0.0</td>\n",
       "      <td>0.0</td>\n",
       "      <td>0.0</td>\n",
       "      <td>0.0</td>\n",
       "      <td>0.0</td>\n",
       "      <td>...</td>\n",
       "      <td>1862.4</td>\n",
       "      <td>182.4</td>\n",
       "      <td>0.0</td>\n",
       "      <td>0.0</td>\n",
       "      <td>0.0</td>\n",
       "      <td>0.0</td>\n",
       "      <td>0.0</td>\n",
       "      <td>0.0</td>\n",
       "      <td>48672.0</td>\n",
       "      <td>전라남도 영암군 삼호읍 에프원로 2 영암 F1 태양광 발전소</td>\n",
       "    </tr>\n",
       "  </tbody>\n",
       "</table>\n",
       "<p>3 rows × 29 columns</p>\n",
       "</div>"
      ],
      "text/plain": [
       "           날짜         발전기명  용량_메가와트  01시  02시  03시  04시  05시  06시  07시  ...  \\\n",
       "0  2023-01-01  (군산)영암F1태양광   13.296  0.0  0.0  0.0  0.0  0.0  0.0  0.0  ...   \n",
       "1  2023-01-02  (군산)영암F1태양광   13.296  0.0  0.0  0.0  0.0  0.0  0.0  0.0  ...   \n",
       "2  2023-01-03  (군산)영암F1태양광   13.296  0.0  0.0  0.0  0.0  0.0  0.0  0.0  ...   \n",
       "\n",
       "      17시    18시  19시  20시  21시  22시  23시  24시       합계  \\\n",
       "0  1526.4  105.6  0.0  0.0  0.0  0.0  0.0  0.0  40588.8   \n",
       "1  2563.2  182.4  0.0  0.0  0.0  0.0  0.0  0.0  57024.0   \n",
       "2  1862.4  182.4  0.0  0.0  0.0  0.0  0.0  0.0  48672.0   \n",
       "\n",
       "                                 주소지  \n",
       "0  전라남도 영암군 삼호읍 에프원로 2 영암 F1 태양광 발전소  \n",
       "1  전라남도 영암군 삼호읍 에프원로 2 영암 F1 태양광 발전소  \n",
       "2  전라남도 영암군 삼호읍 에프원로 2 영암 F1 태양광 발전소  \n",
       "\n",
       "[3 rows x 29 columns]"
      ]
     },
     "execution_count": 6,
     "metadata": {},
     "output_type": "execute_result"
    }
   ],
   "source": [
    "df.head(3)"
   ]
  },
  {
   "cell_type": "code",
   "execution_count": 28,
   "id": "521c29bf-87b4-4456-8034-6b171419bd5d",
   "metadata": {},
   "outputs": [
    {
     "data": {
      "text/plain": [
       "Index(['날짜', '발전기명', '설비용량(MW)', '01시', '02시', '03시', '04시', '05시', '06시',\n",
       "       '07시', '08시', '09시', '10시', '11시', '12시', '13시', '14시', '15시', '16시',\n",
       "       '17시', '18시', '19시', '20시', '21시', '22시', '23시', '24시',\n",
       "       '해당날짜 총 발전량(kMh)', '주소지'],\n",
       "      dtype='object')"
      ]
     },
     "execution_count": 28,
     "metadata": {},
     "output_type": "execute_result"
    }
   ],
   "source": [
    "df = df.rename(columns = {\"용량_메가와트\" : \"설비용량(MW)\", \"합계\" : \"해당날짜 총 발전량(kMh)\"})\n",
    "df.columns"
   ]
  },
  {
   "cell_type": "code",
   "execution_count": 30,
   "id": "b1072835-d221-4fd4-8495-5b82ed42d078",
   "metadata": {},
   "outputs": [
    {
     "data": {
      "text/plain": [
       "Index(['01시', '02시', '03시', '04시', '05시', '06시', '07시', '08시', '09시', '10시',\n",
       "       '11시', '12시', '13시', '14시', '15시', '16시', '17시', '18시', '19시', '20시',\n",
       "       '21시', '22시', '23시', '24시', '해당날짜 총 발전량(kMh)', '주소지'],\n",
       "      dtype='object')"
      ]
     },
     "execution_count": 30,
     "metadata": {},
     "output_type": "execute_result"
    }
   ],
   "source": [
    "df.columns[3:]"
   ]
  },
  {
   "cell_type": "code",
   "execution_count": 32,
   "id": "5006679b-4a81-40cf-acfb-7db68f955fa1",
   "metadata": {},
   "outputs": [],
   "source": [
    "#시간별 발전량 열 추출(3번 열~끝까지)\n",
    "hourly_columns = df.columns[3:27]\n",
    "\n",
    "#melt 함수로 long-format으로 변환\n",
    "hour_generationQuantity = df.melt(\n",
    "    id_vars = list(df.columns[:3]) + list(df.columns[27:]),\n",
    "    value_vars = hourly_columns,\n",
    "    var_name = \"시간\",\n",
    "    value_name = \"해당 시간 발전량(kWh)\"\n",
    ")\n"
   ]
  },
  {
   "cell_type": "code",
   "execution_count": 34,
   "id": "3ed78f1c-cad2-422c-bbb9-38d82fa89149",
   "metadata": {},
   "outputs": [
    {
     "data": {
      "text/html": [
       "<div>\n",
       "<style scoped>\n",
       "    .dataframe tbody tr th:only-of-type {\n",
       "        vertical-align: middle;\n",
       "    }\n",
       "\n",
       "    .dataframe tbody tr th {\n",
       "        vertical-align: top;\n",
       "    }\n",
       "\n",
       "    .dataframe thead th {\n",
       "        text-align: right;\n",
       "    }\n",
       "</style>\n",
       "<table border=\"1\" class=\"dataframe\">\n",
       "  <thead>\n",
       "    <tr style=\"text-align: right;\">\n",
       "      <th></th>\n",
       "      <th>날짜</th>\n",
       "      <th>발전기명</th>\n",
       "      <th>설비용량(MW)</th>\n",
       "      <th>해당날짜 총 발전량(kMh)</th>\n",
       "      <th>주소지</th>\n",
       "      <th>시간</th>\n",
       "      <th>해당 시간 발전량(kWh)</th>\n",
       "    </tr>\n",
       "  </thead>\n",
       "  <tbody>\n",
       "    <tr>\n",
       "      <th>0</th>\n",
       "      <td>2023-01-01</td>\n",
       "      <td>(군산)영암F1태양광</td>\n",
       "      <td>13.296</td>\n",
       "      <td>40588.8</td>\n",
       "      <td>전라남도 영암군 삼호읍 에프원로 2 영암 F1 태양광 발전소</td>\n",
       "      <td>01시</td>\n",
       "      <td>0.0</td>\n",
       "    </tr>\n",
       "    <tr>\n",
       "      <th>1</th>\n",
       "      <td>2023-01-02</td>\n",
       "      <td>(군산)영암F1태양광</td>\n",
       "      <td>13.296</td>\n",
       "      <td>57024.0</td>\n",
       "      <td>전라남도 영암군 삼호읍 에프원로 2 영암 F1 태양광 발전소</td>\n",
       "      <td>01시</td>\n",
       "      <td>0.0</td>\n",
       "    </tr>\n",
       "    <tr>\n",
       "      <th>2</th>\n",
       "      <td>2023-01-03</td>\n",
       "      <td>(군산)영암F1태양광</td>\n",
       "      <td>13.296</td>\n",
       "      <td>48672.0</td>\n",
       "      <td>전라남도 영암군 삼호읍 에프원로 2 영암 F1 태양광 발전소</td>\n",
       "      <td>01시</td>\n",
       "      <td>0.0</td>\n",
       "    </tr>\n",
       "  </tbody>\n",
       "</table>\n",
       "</div>"
      ],
      "text/plain": [
       "           날짜         발전기명  설비용량(MW)  해당날짜 총 발전량(kMh)  \\\n",
       "0  2023-01-01  (군산)영암F1태양광    13.296          40588.8   \n",
       "1  2023-01-02  (군산)영암F1태양광    13.296          57024.0   \n",
       "2  2023-01-03  (군산)영암F1태양광    13.296          48672.0   \n",
       "\n",
       "                                 주소지   시간  해당 시간 발전량(kWh)  \n",
       "0  전라남도 영암군 삼호읍 에프원로 2 영암 F1 태양광 발전소  01시             0.0  \n",
       "1  전라남도 영암군 삼호읍 에프원로 2 영암 F1 태양광 발전소  01시             0.0  \n",
       "2  전라남도 영암군 삼호읍 에프원로 2 영암 F1 태양광 발전소  01시             0.0  "
      ]
     },
     "execution_count": 34,
     "metadata": {},
     "output_type": "execute_result"
    }
   ],
   "source": [
    "hour_generationQuantity.head(3)"
   ]
  },
  {
   "cell_type": "code",
   "execution_count": 36,
   "id": "ae544c35-c2dd-439b-8b51-205cee1b5ba3",
   "metadata": {},
   "outputs": [],
   "source": [
    "#열 순서 재정렬\n",
    "ordered_columns = (\n",
    "    list(df.columns[:3]) +           # 앞의 3개 열\n",
    "    [\"시간\", \"해당 시간 발전량(kWh)\"] +  # melt로 생긴 열\n",
    "    list(df.columns[27:])            # 마지막 열들\n",
    ")\n",
    "\n",
    "# 열 순서 재배열\n",
    "hour_generationQuantity = hour_generationQuantity[ordered_columns]"
   ]
  },
  {
   "cell_type": "code",
   "execution_count": 38,
   "id": "728c137c-eb46-4d9a-ad5c-04e9165e4a57",
   "metadata": {},
   "outputs": [
    {
     "data": {
      "text/html": [
       "<div>\n",
       "<style scoped>\n",
       "    .dataframe tbody tr th:only-of-type {\n",
       "        vertical-align: middle;\n",
       "    }\n",
       "\n",
       "    .dataframe tbody tr th {\n",
       "        vertical-align: top;\n",
       "    }\n",
       "\n",
       "    .dataframe thead th {\n",
       "        text-align: right;\n",
       "    }\n",
       "</style>\n",
       "<table border=\"1\" class=\"dataframe\">\n",
       "  <thead>\n",
       "    <tr style=\"text-align: right;\">\n",
       "      <th></th>\n",
       "      <th>날짜</th>\n",
       "      <th>발전기명</th>\n",
       "      <th>설비용량(MW)</th>\n",
       "      <th>시간</th>\n",
       "      <th>해당 시간 발전량(kWh)</th>\n",
       "      <th>해당날짜 총 발전량(kMh)</th>\n",
       "      <th>주소지</th>\n",
       "    </tr>\n",
       "  </thead>\n",
       "  <tbody>\n",
       "    <tr>\n",
       "      <th>0</th>\n",
       "      <td>2023-01-01</td>\n",
       "      <td>(군산)영암F1태양광</td>\n",
       "      <td>13.296</td>\n",
       "      <td>01시</td>\n",
       "      <td>0.0</td>\n",
       "      <td>40588.8</td>\n",
       "      <td>전라남도 영암군 삼호읍 에프원로 2 영암 F1 태양광 발전소</td>\n",
       "    </tr>\n",
       "    <tr>\n",
       "      <th>1</th>\n",
       "      <td>2023-01-02</td>\n",
       "      <td>(군산)영암F1태양광</td>\n",
       "      <td>13.296</td>\n",
       "      <td>01시</td>\n",
       "      <td>0.0</td>\n",
       "      <td>57024.0</td>\n",
       "      <td>전라남도 영암군 삼호읍 에프원로 2 영암 F1 태양광 발전소</td>\n",
       "    </tr>\n",
       "    <tr>\n",
       "      <th>2</th>\n",
       "      <td>2023-01-03</td>\n",
       "      <td>(군산)영암F1태양광</td>\n",
       "      <td>13.296</td>\n",
       "      <td>01시</td>\n",
       "      <td>0.0</td>\n",
       "      <td>48672.0</td>\n",
       "      <td>전라남도 영암군 삼호읍 에프원로 2 영암 F1 태양광 발전소</td>\n",
       "    </tr>\n",
       "  </tbody>\n",
       "</table>\n",
       "</div>"
      ],
      "text/plain": [
       "           날짜         발전기명  설비용량(MW)   시간  해당 시간 발전량(kWh)  해당날짜 총 발전량(kMh)  \\\n",
       "0  2023-01-01  (군산)영암F1태양광    13.296  01시             0.0          40588.8   \n",
       "1  2023-01-02  (군산)영암F1태양광    13.296  01시             0.0          57024.0   \n",
       "2  2023-01-03  (군산)영암F1태양광    13.296  01시             0.0          48672.0   \n",
       "\n",
       "                                 주소지  \n",
       "0  전라남도 영암군 삼호읍 에프원로 2 영암 F1 태양광 발전소  \n",
       "1  전라남도 영암군 삼호읍 에프원로 2 영암 F1 태양광 발전소  \n",
       "2  전라남도 영암군 삼호읍 에프원로 2 영암 F1 태양광 발전소  "
      ]
     },
     "execution_count": 38,
     "metadata": {},
     "output_type": "execute_result"
    }
   ],
   "source": [
    "hour_generationQuantity.head(3)"
   ]
  },
  {
   "cell_type": "code",
   "execution_count": 40,
   "id": "50891016-7255-4e50-9e32-5c5a76946886",
   "metadata": {},
   "outputs": [],
   "source": [
    "#csv파일로 변환                                   \n",
    "hour_generationQuantity.to_csv(\"한국서부발전_시간별_발전량_utf-8_20231231.csv\", index = False, encoding=\"utf-8-sig\")"
   ]
  },
  {
   "cell_type": "code",
   "execution_count": null,
   "id": "c05694e9-06f3-4d3a-8368-f932edd73aad",
   "metadata": {},
   "outputs": [],
   "source": []
  }
 ],
 "metadata": {
  "kernelspec": {
   "display_name": "Python 3 (ipykernel)",
   "language": "python",
   "name": "python3"
  },
  "language_info": {
   "codemirror_mode": {
    "name": "ipython",
    "version": 3
   },
   "file_extension": ".py",
   "mimetype": "text/x-python",
   "name": "python",
   "nbconvert_exporter": "python",
   "pygments_lexer": "ipython3",
   "version": "3.12.4"
  }
 },
 "nbformat": 4,
 "nbformat_minor": 5
}
