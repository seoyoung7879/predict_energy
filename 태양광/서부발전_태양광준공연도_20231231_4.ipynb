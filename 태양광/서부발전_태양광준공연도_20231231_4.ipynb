{
 "cells": [
  {
   "cell_type": "code",
   "execution_count": 1,
   "id": "2db104cb-ca9f-4196-8303-c615b20f9c3d",
   "metadata": {},
   "outputs": [],
   "source": [
    "import pandas as pd"
   ]
  },
  {
   "cell_type": "code",
   "execution_count": 7,
   "id": "d8b33c62-6e16-41af-acaa-af401c3a516b",
   "metadata": {},
   "outputs": [],
   "source": [
    "df = pd.read_csv(\"C:/Users/kelly/OneDrive/바탕 화면/태양광/최종사용/한국서부발전_시간별발전량_태양광_20231231.csv\", encoding = \"utf-8\")"
   ]
  },
  {
   "cell_type": "code",
   "execution_count": 11,
   "id": "ec4d914a-fd2f-41f4-b9dd-0ed3f7e6885b",
   "metadata": {},
   "outputs": [
    {
     "data": {
      "text/html": [
       "<div>\n",
       "<style scoped>\n",
       "    .dataframe tbody tr th:only-of-type {\n",
       "        vertical-align: middle;\n",
       "    }\n",
       "\n",
       "    .dataframe tbody tr th {\n",
       "        vertical-align: top;\n",
       "    }\n",
       "\n",
       "    .dataframe thead th {\n",
       "        text-align: right;\n",
       "    }\n",
       "</style>\n",
       "<table border=\"1\" class=\"dataframe\">\n",
       "  <thead>\n",
       "    <tr style=\"text-align: right;\">\n",
       "      <th></th>\n",
       "      <th>날짜</th>\n",
       "      <th>발전기명</th>\n",
       "      <th>설비용량(MW)</th>\n",
       "      <th>시간</th>\n",
       "      <th>해당 시간 발전량(kWh)</th>\n",
       "      <th>해당날짜 총 발전량(kMh)</th>\n",
       "      <th>주소지</th>\n",
       "    </tr>\n",
       "  </thead>\n",
       "  <tbody>\n",
       "    <tr>\n",
       "      <th>0</th>\n",
       "      <td>2023-01-01</td>\n",
       "      <td>(군산)영암F1태양광</td>\n",
       "      <td>13.296</td>\n",
       "      <td>01시</td>\n",
       "      <td>0.0</td>\n",
       "      <td>40588.8</td>\n",
       "      <td>전라남도 영암군 삼호읍 에프원로 2 영암 F1 태양광 발전소</td>\n",
       "    </tr>\n",
       "    <tr>\n",
       "      <th>1</th>\n",
       "      <td>2023-01-02</td>\n",
       "      <td>(군산)영암F1태양광</td>\n",
       "      <td>13.296</td>\n",
       "      <td>01시</td>\n",
       "      <td>0.0</td>\n",
       "      <td>57024.0</td>\n",
       "      <td>전라남도 영암군 삼호읍 에프원로 2 영암 F1 태양광 발전소</td>\n",
       "    </tr>\n",
       "    <tr>\n",
       "      <th>2</th>\n",
       "      <td>2023-01-03</td>\n",
       "      <td>(군산)영암F1태양광</td>\n",
       "      <td>13.296</td>\n",
       "      <td>01시</td>\n",
       "      <td>0.0</td>\n",
       "      <td>48672.0</td>\n",
       "      <td>전라남도 영암군 삼호읍 에프원로 2 영암 F1 태양광 발전소</td>\n",
       "    </tr>\n",
       "    <tr>\n",
       "      <th>3</th>\n",
       "      <td>2023-01-04</td>\n",
       "      <td>(군산)영암F1태양광</td>\n",
       "      <td>13.296</td>\n",
       "      <td>01시</td>\n",
       "      <td>0.0</td>\n",
       "      <td>40742.4</td>\n",
       "      <td>전라남도 영암군 삼호읍 에프원로 2 영암 F1 태양광 발전소</td>\n",
       "    </tr>\n",
       "    <tr>\n",
       "      <th>4</th>\n",
       "      <td>2023-01-05</td>\n",
       "      <td>(군산)영암F1태양광</td>\n",
       "      <td>13.296</td>\n",
       "      <td>01시</td>\n",
       "      <td>0.0</td>\n",
       "      <td>23913.6</td>\n",
       "      <td>전라남도 영암군 삼호읍 에프원로 2 영암 F1 태양광 발전소</td>\n",
       "    </tr>\n",
       "  </tbody>\n",
       "</table>\n",
       "</div>"
      ],
      "text/plain": [
       "           날짜         발전기명  설비용량(MW)   시간  해당 시간 발전량(kWh)  해당날짜 총 발전량(kMh)  \\\n",
       "0  2023-01-01  (군산)영암F1태양광    13.296  01시             0.0          40588.8   \n",
       "1  2023-01-02  (군산)영암F1태양광    13.296  01시             0.0          57024.0   \n",
       "2  2023-01-03  (군산)영암F1태양광    13.296  01시             0.0          48672.0   \n",
       "3  2023-01-04  (군산)영암F1태양광    13.296  01시             0.0          40742.4   \n",
       "4  2023-01-05  (군산)영암F1태양광    13.296  01시             0.0          23913.6   \n",
       "\n",
       "                                 주소지  \n",
       "0  전라남도 영암군 삼호읍 에프원로 2 영암 F1 태양광 발전소  \n",
       "1  전라남도 영암군 삼호읍 에프원로 2 영암 F1 태양광 발전소  \n",
       "2  전라남도 영암군 삼호읍 에프원로 2 영암 F1 태양광 발전소  \n",
       "3  전라남도 영암군 삼호읍 에프원로 2 영암 F1 태양광 발전소  \n",
       "4  전라남도 영암군 삼호읍 에프원로 2 영암 F1 태양광 발전소  "
      ]
     },
     "execution_count": 11,
     "metadata": {},
     "output_type": "execute_result"
    }
   ],
   "source": [
    "df.head()"
   ]
  },
  {
   "cell_type": "code",
   "execution_count": 13,
   "id": "05510c95-9ac9-4371-bfaa-642953c67b17",
   "metadata": {},
   "outputs": [
    {
     "data": {
      "text/plain": [
       "array(['(군산)영암F1태양광', '(군산)삼랑진태양광', '태안#9,10 수상태양광'], dtype=object)"
      ]
     },
     "execution_count": 13,
     "metadata": {},
     "output_type": "execute_result"
    }
   ],
   "source": [
    "df[\"발전기명\"].unique()"
   ]
  },
  {
   "cell_type": "code",
   "execution_count": null,
   "id": "31355a43-4f09-4ab2-b4a9-aa5c46fb5c5b",
   "metadata": {},
   "outputs": [],
   "source": [
    "#(군산)영암F1태양광 ---> 12년 12월\n",
    "#(군산)삼랑진태양광 ---> 08년 4월\n",
    "#태안 #9,10 수상태양광 ---> 16년 5월"
   ]
  },
  {
   "cell_type": "code",
   "execution_count": 19,
   "id": "26facf91-0e05-4a09-b083-2d0f6ebd5f36",
   "metadata": {},
   "outputs": [],
   "source": [
    "#준공연도 열 생성. 기본값을 NaN으로 설정\n",
    "df[\"준공연도\"] = None\n",
    "\n",
    "#각 발전기별 준공연도 값 할당\n",
    "df.loc[df[\"발전기명\"] == \"(군산)영암F1태양광\", \"준공연도\"] = \"'12.12\"\n",
    "df.loc[df[\"발전기명\"] == \"(군산)삼랑진태양광\", \"준공연도\"] = \"'08.4\"\n",
    "df.loc[df[\"발전기명\"] == \"태안#9,10 수상태양광\", \"준공연도\"] = \"'16.5\""
   ]
  },
  {
   "cell_type": "code",
   "execution_count": 21,
   "id": "7b801b14-3dfe-4ec2-8805-317f369e5fae",
   "metadata": {},
   "outputs": [
    {
     "data": {
      "text/plain": [
       "array([\"'12.12\", \"'08.4\", \"'16.5\"], dtype=object)"
      ]
     },
     "execution_count": 21,
     "metadata": {},
     "output_type": "execute_result"
    }
   ],
   "source": [
    "df[\"준공연도\"].unique()"
   ]
  },
  {
   "cell_type": "code",
   "execution_count": 25,
   "id": "84d28a0c-074a-4847-b323-590f6b43c8cb",
   "metadata": {},
   "outputs": [],
   "source": [
    "df.to_csv(\"한국서부발전_시간별발전량_태양광_20231231_준공연도.csv\", index = False, encoding = \"utf-8-sig\")"
   ]
  },
  {
   "cell_type": "code",
   "execution_count": null,
   "id": "c4a97a9a-f1e1-42d3-af01-c7389a895de3",
   "metadata": {},
   "outputs": [],
   "source": []
  }
 ],
 "metadata": {
  "kernelspec": {
   "display_name": "Python 3 (ipykernel)",
   "language": "python",
   "name": "python3"
  },
  "language_info": {
   "codemirror_mode": {
    "name": "ipython",
    "version": 3
   },
   "file_extension": ".py",
   "mimetype": "text/x-python",
   "name": "python",
   "nbconvert_exporter": "python",
   "pygments_lexer": "ipython3",
   "version": "3.12.4"
  }
 },
 "nbformat": 4,
 "nbformat_minor": 5
}
