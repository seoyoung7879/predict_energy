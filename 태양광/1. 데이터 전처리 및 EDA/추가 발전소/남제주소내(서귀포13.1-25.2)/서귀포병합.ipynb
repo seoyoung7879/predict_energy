{
 "cells": [
  {
   "cell_type": "code",
   "execution_count": 13,
   "id": "900cfa2d-28e2-4a09-ae6f-a2992efe89eb",
   "metadata": {},
   "outputs": [],
   "source": [
    "import pandas as pd\n",
    "import os\n",
    "\n",
    "# ✅ CSV 파일들이 있는 폴더 경로\n",
    "folder_path =  \"C:\\\\Users\\\\kelly\\\\Desktop\\\\GitHub\\\\predict_energy\\\\태양광\\\\1. 데이터 전처리 및 EDA\\\\추가 발전소\\\\남제주소내(서귀포13.1-25.2)\" # 예: 'data/' 또는 './csv_files/'\n",
    "\n",
    "# ✅ 해당 폴더 내 모든 CSV 파일 이름 가져오기\n",
    "file_list = [file for file in os.listdir(folder_path) if file.endswith('.csv')]\n",
    "\n",
    "# ✅ 각 CSV 파일을 읽어서 리스트에 저장\n",
    "df_list = [pd.read_csv(os.path.join(folder_path, file), encoding='cp949') for file in file_list]\n",
    "\n",
    "# ✅ 데이터프레임들을 하나로 병합\n",
    "merged_df = pd.concat(df_list, ignore_index=True)\n",
    "\n",
    "# ✅ 병합된 결과를 새로운 CSV로 저장 (선택)\n",
    "merged_df.to_csv('merged_result.csv', index=False, encoding='utf-8-sig')\n"
   ]
  },
  {
   "cell_type": "code",
   "execution_count": null,
   "id": "30996a82-af0f-41f8-830c-95155a666aad",
   "metadata": {},
   "outputs": [],
   "source": []
  }
 ],
 "metadata": {
  "kernelspec": {
   "display_name": "Python 3 (ipykernel)",
   "language": "python",
   "name": "python3"
  },
  "language_info": {
   "codemirror_mode": {
    "name": "ipython",
    "version": 3
   },
   "file_extension": ".py",
   "mimetype": "text/x-python",
   "name": "python",
   "nbconvert_exporter": "python",
   "pygments_lexer": "ipython3",
   "version": "3.12.3"
  }
 },
 "nbformat": 4,
 "nbformat_minor": 5
}
