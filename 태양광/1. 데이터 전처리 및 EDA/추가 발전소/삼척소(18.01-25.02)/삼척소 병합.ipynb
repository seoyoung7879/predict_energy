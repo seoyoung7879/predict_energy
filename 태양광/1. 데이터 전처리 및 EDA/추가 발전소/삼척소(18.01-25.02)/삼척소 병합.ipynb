{
 "cells": [
  {
   "cell_type": "code",
   "execution_count": 1,
   "id": "0f86019e",
   "metadata": {},
   "outputs": [],
   "source": [
    "import pandas as pd\n",
    "import os"
   ]
  },
  {
   "cell_type": "code",
   "execution_count": 2,
   "id": "d9ce3dbe",
   "metadata": {},
   "outputs": [],
   "source": [
    "# ✅ CSV 파일들이 있는 폴더 경로\n",
    "folder_path =  \"C:\\\\Users\\\\kelly\\\\Desktop\\\\GitHub\\\\predict_energy\\\\태양광\\\\1. 데이터 전처리 및 EDA\\\\추가 발전소\\\\삼척소(18.01-25.02)\" # 예: 'data/' 또는 './csv_files/'\n",
    "\n",
    "# ✅ 해당 폴더 내 모든 CSV 파일 이름 가져오기\n",
    "file_list = [file for file in os.listdir(folder_path) if file.endswith('.csv')]\n",
    "\n",
    "# ✅ 각 CSV 파일을 읽어서 리스트에 저장\n",
    "df_list = [pd.read_csv(os.path.join(folder_path, file), encoding='cp949') for file in file_list]\n",
    "\n",
    "# ✅ 데이터프레임들을 하나로 병합\n",
    "merged_df = pd.concat(df_list, ignore_index=True)\n",
    "\n",
    "# ✅ 병합된 결과를 새로운 CSV로 저장 (선택)\n",
    "merged_df.to_csv('merged_result.csv', index=False, encoding='utf-8-sig')"
   ]
  },
  {
   "cell_type": "code",
   "execution_count": 3,
   "id": "95227ab7",
   "metadata": {},
   "outputs": [],
   "source": [
    "df = pd.read_csv(\"merged_result.csv\", encoding = 'utf-8')"
   ]
  },
  {
   "cell_type": "code",
   "execution_count": 4,
   "id": "53150033",
   "metadata": {},
   "outputs": [
    {
     "data": {
      "text/html": [
       "<div>\n",
       "<style scoped>\n",
       "    .dataframe tbody tr th:only-of-type {\n",
       "        vertical-align: middle;\n",
       "    }\n",
       "\n",
       "    .dataframe tbody tr th {\n",
       "        vertical-align: top;\n",
       "    }\n",
       "\n",
       "    .dataframe thead th {\n",
       "        text-align: right;\n",
       "    }\n",
       "</style>\n",
       "<table border=\"1\" class=\"dataframe\">\n",
       "  <thead>\n",
       "    <tr style=\"text-align: right;\">\n",
       "      <th></th>\n",
       "      <th>지점</th>\n",
       "      <th>지점명</th>\n",
       "      <th>일시</th>\n",
       "      <th>기온(°C)</th>\n",
       "      <th>강수량(mm)</th>\n",
       "      <th>풍속(m/s)</th>\n",
       "      <th>풍향(16방위)</th>\n",
       "      <th>습도(%)</th>\n",
       "      <th>현지기압(hPa)</th>\n",
       "      <th>일조(hr)</th>\n",
       "      <th>일사(MJ/m2)</th>\n",
       "      <th>적설(cm)</th>\n",
       "      <th>전운량(10분위)</th>\n",
       "    </tr>\n",
       "  </thead>\n",
       "  <tbody>\n",
       "    <tr>\n",
       "      <th>0</th>\n",
       "      <td>106</td>\n",
       "      <td>동해</td>\n",
       "      <td>2017-01-01 01:00</td>\n",
       "      <td>3.9</td>\n",
       "      <td>NaN</td>\n",
       "      <td>1.2</td>\n",
       "      <td>180.0</td>\n",
       "      <td>57.0</td>\n",
       "      <td>1021.8</td>\n",
       "      <td>NaN</td>\n",
       "      <td>NaN</td>\n",
       "      <td>NaN</td>\n",
       "      <td>NaN</td>\n",
       "    </tr>\n",
       "    <tr>\n",
       "      <th>1</th>\n",
       "      <td>106</td>\n",
       "      <td>동해</td>\n",
       "      <td>2017-01-01 02:00</td>\n",
       "      <td>4.1</td>\n",
       "      <td>NaN</td>\n",
       "      <td>1.5</td>\n",
       "      <td>230.0</td>\n",
       "      <td>54.0</td>\n",
       "      <td>1021.9</td>\n",
       "      <td>NaN</td>\n",
       "      <td>NaN</td>\n",
       "      <td>NaN</td>\n",
       "      <td>NaN</td>\n",
       "    </tr>\n",
       "    <tr>\n",
       "      <th>2</th>\n",
       "      <td>106</td>\n",
       "      <td>동해</td>\n",
       "      <td>2017-01-01 03:00</td>\n",
       "      <td>4.9</td>\n",
       "      <td>NaN</td>\n",
       "      <td>0.9</td>\n",
       "      <td>230.0</td>\n",
       "      <td>52.0</td>\n",
       "      <td>1022.2</td>\n",
       "      <td>NaN</td>\n",
       "      <td>NaN</td>\n",
       "      <td>NaN</td>\n",
       "      <td>NaN</td>\n",
       "    </tr>\n",
       "    <tr>\n",
       "      <th>3</th>\n",
       "      <td>106</td>\n",
       "      <td>동해</td>\n",
       "      <td>2017-01-01 04:00</td>\n",
       "      <td>4.8</td>\n",
       "      <td>NaN</td>\n",
       "      <td>2.0</td>\n",
       "      <td>250.0</td>\n",
       "      <td>53.0</td>\n",
       "      <td>1021.7</td>\n",
       "      <td>NaN</td>\n",
       "      <td>NaN</td>\n",
       "      <td>NaN</td>\n",
       "      <td>NaN</td>\n",
       "    </tr>\n",
       "    <tr>\n",
       "      <th>4</th>\n",
       "      <td>106</td>\n",
       "      <td>동해</td>\n",
       "      <td>2017-01-01 05:00</td>\n",
       "      <td>3.2</td>\n",
       "      <td>NaN</td>\n",
       "      <td>0.7</td>\n",
       "      <td>200.0</td>\n",
       "      <td>56.0</td>\n",
       "      <td>1021.8</td>\n",
       "      <td>NaN</td>\n",
       "      <td>NaN</td>\n",
       "      <td>NaN</td>\n",
       "      <td>NaN</td>\n",
       "    </tr>\n",
       "  </tbody>\n",
       "</table>\n",
       "</div>"
      ],
      "text/plain": [
       "    지점 지점명                일시  기온(°C)  강수량(mm)  풍속(m/s)  풍향(16방위)  습도(%)  \\\n",
       "0  106  동해  2017-01-01 01:00     3.9      NaN      1.2     180.0   57.0   \n",
       "1  106  동해  2017-01-01 02:00     4.1      NaN      1.5     230.0   54.0   \n",
       "2  106  동해  2017-01-01 03:00     4.9      NaN      0.9     230.0   52.0   \n",
       "3  106  동해  2017-01-01 04:00     4.8      NaN      2.0     250.0   53.0   \n",
       "4  106  동해  2017-01-01 05:00     3.2      NaN      0.7     200.0   56.0   \n",
       "\n",
       "   현지기압(hPa)  일조(hr)  일사(MJ/m2)  적설(cm)  전운량(10분위)  \n",
       "0     1021.8     NaN        NaN     NaN        NaN  \n",
       "1     1021.9     NaN        NaN     NaN        NaN  \n",
       "2     1022.2     NaN        NaN     NaN        NaN  \n",
       "3     1021.7     NaN        NaN     NaN        NaN  \n",
       "4     1021.8     NaN        NaN     NaN        NaN  "
      ]
     },
     "execution_count": 4,
     "metadata": {},
     "output_type": "execute_result"
    }
   ],
   "source": [
    "df.head()"
   ]
  },
  {
   "cell_type": "code",
   "execution_count": 5,
   "id": "2d75c24f",
   "metadata": {},
   "outputs": [],
   "source": [
    "df = df.drop(columns = [\"지점\"])"
   ]
  },
  {
   "cell_type": "code",
   "execution_count": 6,
   "id": "325006ea",
   "metadata": {},
   "outputs": [],
   "source": [
    "df.to_csv(\"삼척소 병합.csv\", encoding = 'utf-8')"
   ]
  },
  {
   "cell_type": "code",
   "execution_count": null,
   "id": "faebad18",
   "metadata": {},
   "outputs": [],
   "source": []
  }
 ],
 "metadata": {
  "kernelspec": {
   "display_name": "base",
   "language": "python",
   "name": "python3"
  },
  "language_info": {
   "codemirror_mode": {
    "name": "ipython",
    "version": 3
   },
   "file_extension": ".py",
   "mimetype": "text/x-python",
   "name": "python",
   "nbconvert_exporter": "python",
   "pygments_lexer": "ipython3",
   "version": "3.12.3"
  }
 },
 "nbformat": 4,
 "nbformat_minor": 5
}
