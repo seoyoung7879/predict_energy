{
 "cells": [
  {
   "cell_type": "markdown",
   "id": "de0718f9-14fe-4d56-851d-8de19a84a70d",
   "metadata": {},
   "source": [
    "## ***CatBoost 파이프라인***\n",
    "## ***cf) CatBoost 범주형 데이터 처리에 강점***\n",
    "### 지금은 분류 모델임. 회귀모델로 할 경우 CatBoostRegressor 사용. eval_metric = \"RMSE\"로 변경하는 등 과정 필요 ###"
   ]
  },
  {
   "cell_type": "markdown",
   "id": "6134c241-c083-4de0-9989-99c9a2a78823",
   "metadata": {},
   "source": [
    "## **데이터 준비**"
   ]
  },
  {
   "cell_type": "code",
   "execution_count": 2,
   "id": "17dcecf8-0cfc-4b2c-8915-8e9d18088424",
   "metadata": {},
   "outputs": [],
   "source": [
    "# 1. 데이터 불러오기\n",
    "import pandas as pd\n",
    "df = pd.read_csv(\"df_solar_real_final_yearmonthdaydate.csv\", encoding = \"utf-8\")"
   ]
  },
  {
   "cell_type": "code",
   "execution_count": 4,
   "id": "730ac464-6101-495f-b8ac-82075dc69816",
   "metadata": {},
   "outputs": [
    {
     "data": {
      "text/html": [
       "<div>\n",
       "<style scoped>\n",
       "    .dataframe tbody tr th:only-of-type {\n",
       "        vertical-align: middle;\n",
       "    }\n",
       "\n",
       "    .dataframe tbody tr th {\n",
       "        vertical-align: top;\n",
       "    }\n",
       "\n",
       "    .dataframe thead th {\n",
       "        text-align: right;\n",
       "    }\n",
       "</style>\n",
       "<table border=\"1\" class=\"dataframe\">\n",
       "  <thead>\n",
       "    <tr style=\"text-align: right;\">\n",
       "      <th></th>\n",
       "      <th>발전구분</th>\n",
       "      <th>year</th>\n",
       "      <th>month</th>\n",
       "      <th>day</th>\n",
       "      <th>weekday</th>\n",
       "      <th>설비용량(MW)</th>\n",
       "      <th>시간</th>\n",
       "      <th>발전량(kWh)</th>\n",
       "      <th>연식(년)</th>\n",
       "      <th>지점명</th>\n",
       "      <th>기온(°C)</th>\n",
       "      <th>강수량(mm)</th>\n",
       "      <th>풍속(m/s)</th>\n",
       "      <th>풍향(16방위)</th>\n",
       "      <th>습도(%)</th>\n",
       "      <th>일사(MJ/m2)</th>\n",
       "      <th>적설(cm)</th>\n",
       "      <th>하늘상태</th>\n",
       "      <th>태양고도</th>\n",
       "      <th>방위각</th>\n",
       "    </tr>\n",
       "  </thead>\n",
       "  <tbody>\n",
       "    <tr>\n",
       "      <th>0</th>\n",
       "      <td>세종시폐기물매립장태양광</td>\n",
       "      <td>2017</td>\n",
       "      <td>1</td>\n",
       "      <td>1</td>\n",
       "      <td>6</td>\n",
       "      <td>1.628</td>\n",
       "      <td>1</td>\n",
       "      <td>0.0</td>\n",
       "      <td>4.6</td>\n",
       "      <td>청주</td>\n",
       "      <td>2.2</td>\n",
       "      <td>0.0</td>\n",
       "      <td>0.2</td>\n",
       "      <td>0.0</td>\n",
       "      <td>78.0</td>\n",
       "      <td>0.0</td>\n",
       "      <td>0.0</td>\n",
       "      <td>NaN</td>\n",
       "      <td>0.0</td>\n",
       "      <td>NaN</td>\n",
       "    </tr>\n",
       "    <tr>\n",
       "      <th>1</th>\n",
       "      <td>안산연성정수장태양광</td>\n",
       "      <td>2017</td>\n",
       "      <td>1</td>\n",
       "      <td>1</td>\n",
       "      <td>6</td>\n",
       "      <td>1.490</td>\n",
       "      <td>1</td>\n",
       "      <td>0.0</td>\n",
       "      <td>4.4</td>\n",
       "      <td>수원</td>\n",
       "      <td>0.1</td>\n",
       "      <td>0.0</td>\n",
       "      <td>0.3</td>\n",
       "      <td>0.0</td>\n",
       "      <td>96.0</td>\n",
       "      <td>0.0</td>\n",
       "      <td>0.0</td>\n",
       "      <td>NaN</td>\n",
       "      <td>0.0</td>\n",
       "      <td>NaN</td>\n",
       "    </tr>\n",
       "    <tr>\n",
       "      <th>2</th>\n",
       "      <td>영암에프원태양광b</td>\n",
       "      <td>2017</td>\n",
       "      <td>1</td>\n",
       "      <td>1</td>\n",
       "      <td>6</td>\n",
       "      <td>13.296</td>\n",
       "      <td>1</td>\n",
       "      <td>0.0</td>\n",
       "      <td>4.1</td>\n",
       "      <td>목포</td>\n",
       "      <td>5.0</td>\n",
       "      <td>0.0</td>\n",
       "      <td>1.8</td>\n",
       "      <td>160.0</td>\n",
       "      <td>93.0</td>\n",
       "      <td>0.0</td>\n",
       "      <td>0.0</td>\n",
       "      <td>NaN</td>\n",
       "      <td>0.0</td>\n",
       "      <td>NaN</td>\n",
       "    </tr>\n",
       "  </tbody>\n",
       "</table>\n",
       "</div>"
      ],
      "text/plain": [
       "           발전구분  year  month  day  weekday  설비용량(MW)  시간  발전량(kWh)  연식(년) 지점명  \\\n",
       "0  세종시폐기물매립장태양광  2017      1    1        6     1.628   1       0.0    4.6  청주   \n",
       "1    안산연성정수장태양광  2017      1    1        6     1.490   1       0.0    4.4  수원   \n",
       "2     영암에프원태양광b  2017      1    1        6    13.296   1       0.0    4.1  목포   \n",
       "\n",
       "   기온(°C)  강수량(mm)  풍속(m/s)  풍향(16방위)  습도(%)  일사(MJ/m2)  적설(cm)  하늘상태  태양고도  \\\n",
       "0     2.2      0.0      0.2       0.0   78.0        0.0     0.0   NaN   0.0   \n",
       "1     0.1      0.0      0.3       0.0   96.0        0.0     0.0   NaN   0.0   \n",
       "2     5.0      0.0      1.8     160.0   93.0        0.0     0.0   NaN   0.0   \n",
       "\n",
       "   방위각  \n",
       "0  NaN  \n",
       "1  NaN  \n",
       "2  NaN  "
      ]
     },
     "execution_count": 4,
     "metadata": {},
     "output_type": "execute_result"
    }
   ],
   "source": [
    "df.head(3)"
   ]
  },
  {
   "cell_type": "code",
   "execution_count": 6,
   "id": "5ff88c7f-8f4b-419f-bf18-deac80e95d45",
   "metadata": {},
   "outputs": [
    {
     "name": "stdout",
     "output_type": "stream",
     "text": [
      "<class 'pandas.core.frame.DataFrame'>\n",
      "RangeIndex: 201306 entries, 0 to 201305\n",
      "Data columns (total 20 columns):\n",
      " #   Column     Non-Null Count   Dtype  \n",
      "---  ------     --------------   -----  \n",
      " 0   발전구분       201306 non-null  object \n",
      " 1   year       201306 non-null  int64  \n",
      " 2   month      201306 non-null  int64  \n",
      " 3   day        201306 non-null  int64  \n",
      " 4   weekday    201306 non-null  int64  \n",
      " 5   설비용량(MW)   201306 non-null  float64\n",
      " 6   시간         201306 non-null  int64  \n",
      " 7   발전량(kWh)   201243 non-null  float64\n",
      " 8   연식(년)      201306 non-null  float64\n",
      " 9   지점명        201306 non-null  object \n",
      " 10  기온(°C)     201283 non-null  float64\n",
      " 11  강수량(mm)    201305 non-null  float64\n",
      " 12  풍속(m/s)    201271 non-null  float64\n",
      " 13  풍향(16방위)   201271 non-null  float64\n",
      " 14  습도(%)      201261 non-null  float64\n",
      " 15  일사(MJ/m2)  201305 non-null  float64\n",
      " 16  적설(cm)     201305 non-null  float64\n",
      " 17  하늘상태       192152 non-null  float64\n",
      " 18  태양고도       201306 non-null  float64\n",
      " 19  방위각        101655 non-null  float64\n",
      "dtypes: float64(13), int64(5), object(2)\n",
      "memory usage: 30.7+ MB\n"
     ]
    }
   ],
   "source": [
    "df.info()"
   ]
  },
  {
   "cell_type": "code",
   "execution_count": 92,
   "id": "60d18b10-f235-40ab-a597-19f8ae443225",
   "metadata": {},
   "outputs": [],
   "source": [
    "from catboost import CatBoostRegressor, Pool\n",
    "from sklearn.model_selection import train_test_split\n",
    "from sklearn.metrics import mean_squared_error, r2_score, make_scorer\n",
    "import matplotlib.pyplot as plt\n",
    "import numpy as np\n",
    "import matplotlib\n",
    "from sklearn.model_selection import RandomizedSearchCV"
   ]
  },
  {
   "cell_type": "code",
   "execution_count": 45,
   "id": "ce459190-ea64-4358-93f3-a3e8717b0a9e",
   "metadata": {},
   "outputs": [],
   "source": [
    "# 사용하고 싶은 피처 선택\n",
    "features = [\n",
    "    '발전구분', 'year', 'month', 'day', 'weekday', '시간',\n",
    "    '설비용량(MW)', '연식(년)', '기온(°C)', '강수량(mm)', '풍속(m/s)',\n",
    "    '풍향(16방위)', '습도(%)', '일사(MJ/m2)', '적설(cm)', '태양고도', '하늘상태','방위각'\n",
    "]"
   ]
  },
  {
   "cell_type": "code",
   "execution_count": 47,
   "id": "807e6aff-c678-4c65-80db-4f6a0568341e",
   "metadata": {},
   "outputs": [],
   "source": [
    "target = '발전량(kWh)'"
   ]
  },
  {
   "cell_type": "markdown",
   "id": "8c191f7a-cdd2-4705-8fcf-24922404f9bd",
   "metadata": {},
   "source": [
    "## **결측치 확인**"
   ]
  },
  {
   "cell_type": "code",
   "execution_count": 49,
   "id": "ad7ee973-51c1-4a7b-ac24-ab61ec63fe8b",
   "metadata": {
    "scrolled": true
   },
   "outputs": [
    {
     "name": "stdout",
     "output_type": "stream",
     "text": [
      "발전구분             0\n",
      "year             0\n",
      "month            0\n",
      "day              0\n",
      "weekday          0\n",
      "설비용량(MW)         0\n",
      "시간               0\n",
      "발전량(kWh)        63\n",
      "연식(년)            0\n",
      "지점명              0\n",
      "기온(°C)          23\n",
      "강수량(mm)          1\n",
      "풍속(m/s)         35\n",
      "풍향(16방위)        35\n",
      "습도(%)           45\n",
      "일사(MJ/m2)        1\n",
      "적설(cm)           1\n",
      "하늘상태          9154\n",
      "태양고도             0\n",
      "방위각          99651\n",
      "dtype: int64\n"
     ]
    }
   ],
   "source": [
    "print(df.isnull().sum())"
   ]
  },
  {
   "cell_type": "code",
   "execution_count": 60,
   "id": "03e7c924-79a7-4c46-a3e0-d559d8222751",
   "metadata": {},
   "outputs": [],
   "source": [
    "df_model = df[features + [target]].dropna()"
   ]
  },
  {
   "cell_type": "markdown",
   "id": "4e8e25d1-f7b2-4679-a8af-2bba4fd091d7",
   "metadata": {},
   "source": [
    "## **데이터 분할**"
   ]
  },
  {
   "cell_type": "code",
   "execution_count": 62,
   "id": "89cbcba3-4a6a-45af-9f68-5fc70d5ed977",
   "metadata": {},
   "outputs": [],
   "source": [
    "X = df_model[features]\n",
    "y = df_model[target]"
   ]
  },
  {
   "cell_type": "code",
   "execution_count": 64,
   "id": "b80dc487-3d8b-4ef3-aee2-10a4e11b6918",
   "metadata": {},
   "outputs": [],
   "source": [
    "# 범주형 피처 지정\n",
    "cat_features = ['발전구분']"
   ]
  },
  {
   "cell_type": "code",
   "execution_count": 66,
   "id": "9ef05cbe-050e-4bb7-9fbe-dfc9fa454615",
   "metadata": {},
   "outputs": [],
   "source": [
    "X_train, X_test, y_train, y_test = train_test_split(X, y, test_size=0.2, random_state=42) "
   ]
  },
  {
   "cell_type": "markdown",
   "id": "6dade97e-7458-4cff-95f8-91827c86119f",
   "metadata": {},
   "source": [
    "## **CatBoost 모델학습**"
   ]
  },
  {
   "cell_type": "code",
   "execution_count": 68,
   "id": "7c8895c6-6f45-46ef-a1d8-569d081ef5c0",
   "metadata": {},
   "outputs": [
    {
     "name": "stdout",
     "output_type": "stream",
     "text": [
      "Learning rate set to 0.081936\n",
      "0:\tlearn: 2326.1926554\ttotal: 236ms\tremaining: 3m 55s\n",
      "100:\tlearn: 494.2286356\ttotal: 9.46s\tremaining: 1m 24s\n",
      "200:\tlearn: 448.4276676\ttotal: 17.8s\tremaining: 1m 10s\n",
      "300:\tlearn: 429.4708255\ttotal: 26s\tremaining: 1m\n",
      "400:\tlearn: 415.3386758\ttotal: 34.5s\tremaining: 51.6s\n",
      "500:\tlearn: 405.0998084\ttotal: 43.1s\tremaining: 42.9s\n",
      "600:\tlearn: 396.0872202\ttotal: 51.4s\tremaining: 34.1s\n",
      "700:\tlearn: 389.2624355\ttotal: 59.8s\tremaining: 25.5s\n",
      "800:\tlearn: 382.4318020\ttotal: 1m 8s\tremaining: 17.1s\n",
      "900:\tlearn: 376.3557450\ttotal: 1m 18s\tremaining: 8.6s\n",
      "999:\tlearn: 370.8311792\ttotal: 1m 26s\tremaining: 0us\n"
     ]
    },
    {
     "data": {
      "text/plain": [
       "<catboost.core.CatBoostRegressor at 0x239eeb46210>"
      ]
     },
     "execution_count": 68,
     "metadata": {},
     "output_type": "execute_result"
    }
   ],
   "source": [
    "model = CatBoostRegressor(verbose=100, random_state=42) #verbose : 얼마나 자주 학습 상태를 출력할지 지정\n",
    "model.fit(X_train, y_train, cat_features=cat_features)"
   ]
  },
  {
   "cell_type": "markdown",
   "id": "ffed33d7-cfa1-4dbb-9399-19d26822bfd8",
   "metadata": {},
   "source": [
    "## **예측 및 평가**"
   ]
  },
  {
   "cell_type": "code",
   "execution_count": 72,
   "id": "143c083d-eab0-4197-a937-6051af5c2b82",
   "metadata": {},
   "outputs": [
    {
     "name": "stdout",
     "output_type": "stream",
     "text": [
      "RMSE: 438.15456166032516\n",
      "R² Score: 0.9699522851005999\n"
     ]
    }
   ],
   "source": [
    "# 예측\n",
    "y_pred = model.predict(X_test)\n",
    "\n",
    "# RMSE 계산\n",
    "rmse = np.sqrt(mean_squared_error(y_test, y_pred))\n",
    "# R² 점수 계산\n",
    "r2 = r2_score(y_test, y_pred)\n",
    "\n",
    "# 결과 출력\n",
    "print(\"RMSE:\", rmse) #한시간 당 평균 예측 오차 \n",
    "print(\"R² Score:\", r2) \n"
   ]
  },
  {
   "cell_type": "code",
   "execution_count": 86,
   "id": "b1c0ebd3-5303-42d6-94e7-b28ab128177e",
   "metadata": {},
   "outputs": [
    {
     "name": "stdout",
     "output_type": "stream",
     "text": [
      "(61344, 4)\n"
     ]
    }
   ],
   "source": [
    "print(df[['year', 'month', 'day', '시간']].drop_duplicates().shape)"
   ]
  },
  {
   "cell_type": "markdown",
   "id": "bcf0d644-17e1-4c07-8688-f20433bab95a",
   "metadata": {},
   "source": [
    "## **특성 중요도 확인**"
   ]
  },
  {
   "cell_type": "code",
   "execution_count": 74,
   "id": "fe099af1-64e4-47a6-955a-6998b61ce82f",
   "metadata": {},
   "outputs": [],
   "source": [
    "# 중요도 추출\n",
    "importances = model.get_feature_importance() \n",
    "importance_df = pd.DataFrame({\n",
    "    'Feature': features,\n",
    "    'Importance': importances\n",
    "}).sort_values(by='Importance', ascending=False)"
   ]
  },
  {
   "cell_type": "code",
   "execution_count": 76,
   "id": "46aec9bb-1c6a-4ffa-980d-9c1b90f72f25",
   "metadata": {},
   "outputs": [
    {
     "name": "stdout",
     "output_type": "stream",
     "text": [
      "      Feature  Importance\n",
      "6    설비용량(MW)   76.083984\n",
      "13  일사(MJ/m2)   12.940856\n",
      "7       연식(년)    2.055619\n",
      "17        방위각    1.310790\n",
      "5          시간    0.868365\n",
      "8      기온(°C)    0.841707\n",
      "16       하늘상태    0.790978\n",
      "0        발전구분    0.751934\n",
      "12      습도(%)    0.707808\n",
      "2       month    0.696814\n",
      "14     적설(cm)    0.630572\n",
      "4     weekday    0.604963\n",
      "3         day    0.400043\n",
      "1        year    0.388727\n",
      "15       태양고도    0.377984\n",
      "10    풍속(m/s)    0.285929\n",
      "11   풍향(16방위)    0.258356\n",
      "9     강수량(mm)    0.004571\n"
     ]
    }
   ],
   "source": [
    "# 중요도 출력\n",
    "print(importance_df)"
   ]
  },
  {
   "cell_type": "code",
   "execution_count": 84,
   "id": "6b06a08f-8390-40cb-8670-7350a620b85c",
   "metadata": {
    "scrolled": true
   },
   "outputs": [
    {
     "data": {
      "image/png": "[encoded data removed]",
      "text/plain": [
       "<Figure size 1000x600 with 1 Axes>"
      ]
     },
     "metadata": {},
     "output_type": "display_data"
    }
   ],
   "source": [
    "# 한글 폰트 설정 (Windows)\n",
    "matplotlib.rc('font', family='Malgun Gothic')\n",
    "plt.rcParams['axes.unicode_minus'] = False  # 마이너스 깨짐 방지\n",
    "\n",
    "# 중요도 시각화\n",
    "plt.figure(figsize=(10, 6))\n",
    "plt.barh(importance_df['Feature'], importance_df['Importance'])\n",
    "plt.gca().invert_yaxis()  # 가장 중요한 게 위로\n",
    "plt.xlabel(\"Feature Importance\")\n",
    "plt.title(\"CatBoost Feature Importance\")\n",
    "plt.tight_layout()\n",
    "plt.show()"
   ]
  },
  {
   "cell_type": "markdown",
   "id": "efe4b3ed-3da9-46d8-b5e7-06e70d9a1a2d",
   "metadata": {},
   "source": [
    "## **수용가능한 오차범위인지 확인**"
   ]
  },
  {
   "cell_type": "code",
   "execution_count": 89,
   "id": "960e9c09-a5b7-4be3-a0e2-87c3356c284b",
   "metadata": {
    "jupyter": {
     "source_hidden": true
    }
   },
   "outputs": [
    {
     "name": "stdout",
     "output_type": "stream",
     "text": [
      "RMSE 비율: 28.54%\n"
     ]
    }
   ],
   "source": [
    "## RMSE / 평균 발전량(비율 기준)\n",
    "mean_power = y_test.mean()\n",
    "rmse_ratio = rmse / mean_power\n",
    "print(f\"RMSE 비율: {rmse_ratio:.2%}\") \n",
    "# 10%이내 : 좋은 성능\n",
    "# 20%이내 : 실용 가능\n",
    "# 20% 이상 : 개선 필요"
   ]
  },
  {
   "cell_type": "markdown",
   "id": "591996a8-b1f7-46e8-b0e8-7f251ec87330",
   "metadata": {},
   "source": [
    "## **하이퍼파라미터 튜닝**"
   ]
  },
  {
   "cell_type": "code",
   "execution_count": 106,
   "id": "238c8a9b-c58f-4d8a-8a3f-856630a4716e",
   "metadata": {},
   "outputs": [
    {
     "name": "stdout",
     "output_type": "stream",
     "text": [
      "Fitting 3 folds for each of 8 candidates, totalling 24 fits\n",
      "Best Parameters: {'learning_rate': 0.1, 'l2_leaf_reg': 3, 'iterations': 700, 'depth': 8}\n",
      "Best R² Score (CV): 0.9712486223184126\n"
     ]
    }
   ],
   "source": [
    "# 1. 튜닝할 파라미터 범위 정의\n",
    "param_dist = {\n",
    "    'learning_rate': [0.01, 0.05, 0.1, 0.2],\n",
    "    'depth': [4, 6, 8],\n",
    "    'l2_leaf_reg': [3, 5, 7],\n",
    "    'iterations': [500, 700]\n",
    "}\n",
    "\n",
    "# 2. 평가 지표 정의 (R² 기준)\n",
    "r2_scorer = make_scorer(r2_score)\n",
    "\n",
    "# 3. RandomizedSearchCV 정의\n",
    "random_search = RandomizedSearchCV(\n",
    "    estimator=CatBoostRegressor(verbose=0, random_state=42,early_stopping_rounds=50),\n",
    "    param_distributions=param_dist,\n",
    "    scoring=r2_scorer,\n",
    "    n_iter=8,              # 총 시도할 조합 수\n",
    "    cv=3,                   # 3-fold 교차검증\n",
    "    verbose=2,\n",
    "    random_state=42,\n",
    "    n_jobs=-1\n",
    ")\n",
    "\n",
    "# 4. 튜닝 실행 (훈련 데이터 기준)\n",
    "random_search.fit(X_train, y_train, cat_features=cat_features)\n",
    "\n",
    "# 5. 최적 결과 출력\n",
    "print(\"Best Parameters:\", random_search.best_params_)\n",
    "print(\"Best R² Score (CV):\", random_search.best_score_)"
   ]
  },
  {
   "cell_type": "markdown",
   "id": "3d04c4ed-4e38-4b36-affe-382d6169375c",
   "metadata": {},
   "source": [
    "## **튜닝된 모델로 평가**"
   ]
  },
  {
   "cell_type": "code",
   "execution_count": 108,
   "id": "49932344-0efb-42b6-98d0-9db0e2107cf7",
   "metadata": {},
   "outputs": [
    {
     "name": "stdout",
     "output_type": "stream",
     "text": [
      "Tuned RMSE: 425.93\n",
      "Tuned R² Score: 0.9716\n",
      "RMSE 비율: 27.74%\n"
     ]
    }
   ],
   "source": [
    "# 최적 모델로 테스트셋 예측\n",
    "best_model = random_search.best_estimator_\n",
    "y_pred = best_model.predict(X_test)\n",
    "\n",
    "# 성능 지표 계산\n",
    "rmse = np.sqrt(mean_squared_error(y_test, y_pred))\n",
    "r2 = r2_score(y_test, y_pred)\n",
    "\n",
    "print(f\"Tuned RMSE: {rmse:.2f}\")\n",
    "print(f\"Tuned R² Score: {r2:.4f}\")\n",
    "\n",
    "# 수용 가능한 오차범위인지 확인\n",
    "## RMSE / 평균 발전량(비율 기준)\n",
    "mean_power = y_test.mean()\n",
    "rmse_ratio = rmse / mean_power\n",
    "print(f\"RMSE 비율: {rmse_ratio:.2%}\") \n",
    "# 10%이내 : 좋은 성능\n",
    "# 20%이내 : 실용 가능\n",
    "# 20% 이상 : 개선 필요"
   ]
  }
 ],
 "metadata": {
  "kernelspec": {
   "display_name": "Python 3 (ipykernel)",
   "language": "python",
   "name": "python3"
  },
  "language_info": {
   "codemirror_mode": {
    "name": "ipython",
    "version": 3
   },
   "file_extension": ".py",
   "mimetype": "text/x-python",
   "name": "python",
   "nbconvert_exporter": "python",
   "pygments_lexer": "ipython3",
   "version": "3.12.3"
  }
 },
 "nbformat": 4,
 "nbformat_minor": 5
}
