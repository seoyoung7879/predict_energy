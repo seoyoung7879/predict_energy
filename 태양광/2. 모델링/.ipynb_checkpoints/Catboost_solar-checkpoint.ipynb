{
 "cells": [
  {
   "cell_type": "markdown",
   "id": "de0718f9-14fe-4d56-851d-8de19a84a70d",
   "metadata": {},
   "source": [
    "## ***CatBoost 파이프라인***\n",
    "## ***cf) CatBoost 범주형 데이터 처리에 강점***\n",
    "### 지금은 분류 모델임. 회귀모델로 할 경우 CatBoostRegressor 사용. eval_metric = \"RMSE\"로 변경하는 등 과정 필요 ###"
   ]
  },
  {
   "cell_type": "markdown",
   "id": "6134c241-c083-4de0-9989-99c9a2a78823",
   "metadata": {},
   "source": [
    "## **데이터 준비**"
   ]
  },
  {
   "cell_type": "code",
   "execution_count": 1,
   "id": "17dcecf8-0cfc-4b2c-8915-8e9d18088424",
   "metadata": {},
   "outputs": [],
   "source": [
    "# 1. 데이터 불러오기\n",
    "import pandas as pd\n",
    "df = pd.read_csv(\" \", encoding = \"utf-8\")"
   ]
  },
  {
   "cell_type": "code",
   "execution_count": null,
   "id": "60d18b10-f235-40ab-a597-19f8ae443225",
   "metadata": {},
   "outputs": [],
   "source": [
    "# 2. 타겟과 피처 분리\n",
    "X = df.drop('target', axis=1)\n",
    "y = df['target']\n"
   ]
  },
  {
   "cell_type": "code",
   "execution_count": null,
   "id": "ce459190-ea64-4358-93f3-a3e8717b0a9e",
   "metadata": {},
   "outputs": [],
   "source": [
    "# 3. 범주형 변수 식별\n",
    "cat_features = X.select_dtypes(include=['object', 'category']).columns.tolist()\n"
   ]
  },
  {
   "cell_type": "markdown",
   "id": "4e8e25d1-f7b2-4679-a8af-2bba4fd091d7",
   "metadata": {},
   "source": [
    "## **데이터 분할**"
   ]
  },
  {
   "cell_type": "code",
   "execution_count": null,
   "id": "89cbcba3-4a6a-45af-9f68-5fc70d5ed977",
   "metadata": {},
   "outputs": [],
   "source": [
    "from sklearn.model_selection import train_test_split\n",
    "\n",
    "X_train, X_test, y_train, y_test = train_test_split(X, y, test_size=0.2, random_state=42, stratify=y) \n",
    "# stratify = y : 데이터 분할 시 타겟(y)의 비율을 훈련세트와 테스트세트에 동일하게 유지"
   ]
  },
  {
   "cell_type": "markdown",
   "id": "6dade97e-7458-4cff-95f8-91827c86119f",
   "metadata": {},
   "source": [
    "## **CatBoost 모델학습**"
   ]
  },
  {
   "cell_type": "code",
   "execution_count": null,
   "id": "7c8895c6-6f45-46ef-a1d8-569d081ef5c0",
   "metadata": {},
   "outputs": [],
   "source": [
    "from catboost import CatBoostRegressor\n",
    "\n",
    "model = CatBoostRegressor(\n",
    "    iterations=1000,\n",
    "    learning_rate=0.1,\n",
    "    depth=6,\n",
    "    eval_metric='RMSE',  # 또는 'MAE', 'R2'\n",
    "    cat_features=cat_features,\n",
    "    verbose=100,\n",
    "    random_seed=42\n",
    ")\n",
    "\n",
    "model.fit(X_train, y_train, eval_set=(X_test, y_test), early_stopping_rounds=50)\n",
    "\n"
   ]
  },
  {
   "cell_type": "markdown",
   "id": "ffed33d7-cfa1-4dbb-9399-19d26822bfd8",
   "metadata": {},
   "source": [
    "## **예측 및 평가**"
   ]
  },
  {
   "cell_type": "code",
   "execution_count": null,
   "id": "143c083d-eab0-4197-a937-6051af5c2b82",
   "metadata": {},
   "outputs": [],
   "source": [
    "from sklearn.metrics import mean_squared_error, r2_score\n",
    "\n",
    "y_pred = model.predict(X_test)\n",
    "\n",
    "# RMSE 계산\n",
    "rmse = mean_squared_error(y_test, y_pred, squared=False)\n",
    "r2 = r2_score(y_test, y_pred)\n",
    "\n",
    "print(\"RMSE:\", rmse)\n",
    "print(\"R² Score:\", r2)\n"
   ]
  },
  {
   "cell_type": "markdown",
   "id": "3a6515a7-7014-4c3a-b9cc-2d832197afbb",
   "metadata": {},
   "source": [
    "## **모델 저장 및 불러오기**"
   ]
  },
  {
   "cell_type": "code",
   "execution_count": null,
   "id": "aa0ec28c-770a-4e89-b672-c467999e07bd",
   "metadata": {},
   "outputs": [],
   "source": [
    "# 저장\n",
    "model.save_model(\"catboost_regressor_model.cbm\")\n",
    "\n",
    "# 불러오기\n",
    "loaded_model = CatBoostRegressor()\n",
    "loaded_model.load_model(\"catboost_regressor_model.cbm\")\n",
    "\n"
   ]
  },
  {
   "cell_type": "markdown",
   "id": "bcf0d644-17e1-4c07-8688-f20433bab95a",
   "metadata": {},
   "source": [
    "## **특성 중요도 확인**"
   ]
  },
  {
   "cell_type": "code",
   "execution_count": null,
   "id": "fe099af1-64e4-47a6-955a-6998b61ce82f",
   "metadata": {},
   "outputs": [],
   "source": [
    "import matplotlib.pyplot as plt\n",
    "\n",
    "feature_importance = model.get_feature_importance(prettified=True) #prettified=True : 출력결과가 \"컬럼이름+중요도 값\" 형태의 DataFrame으로 정리되어 나오게 함\n",
    "print(feature_importance)\n",
    "\n",
    "# 시각화\n",
    "model.plot_importance()\n"
   ]
  },
  {
   "cell_type": "markdown",
   "id": "12e2ebeb-5252-4f8c-865c-f23fe9e6a663",
   "metadata": {},
   "source": [
    "## **선택사항 : 하이퍼파라미터 튜닝**"
   ]
  },
  {
   "cell_type": "code",
   "execution_count": null,
   "id": "650697de-cca9-4425-b197-5f1c92367eea",
   "metadata": {},
   "outputs": [],
   "source": [
    "from sklearn.model_selection import GridSearchCV\n",
    "\n",
    "param_grid = {\n",
    "    'depth': [4, 6, 8],\n",
    "    'learning_rate': [0.01, 0.1],\n",
    "    'iterations': [300]\n",
    "}\n",
    "\n",
    "cb = CatBoostRegressor(cat_features=cat_features, verbose=0)\n",
    "grid = GridSearchCV(cb, param_grid, cv=3, scoring='neg_root_mean_squared_error')\n",
    "grid.fit(X_train, y_train)\n",
    "\n",
    "print(\"Best Params:\", grid.best_params_)\n"
   ]
  },
  {
   "cell_type": "code",
   "execution_count": null,
   "id": "87986e18-4c43-4fc4-9595-5c71f577cdde",
   "metadata": {},
   "outputs": [],
   "source": []
  },
  {
   "cell_type": "code",
   "execution_count": null,
   "id": "ea863a91-547d-4651-95a0-c02b6ad9fc9c",
   "metadata": {},
   "outputs": [],
   "source": []
  },
  {
   "cell_type": "code",
   "execution_count": null,
   "id": "3b6ae2c3-4cce-486e-b25b-8e4199f79a87",
   "metadata": {},
   "outputs": [],
   "source": []
  }
 ],
 "metadata": {
  "kernelspec": {
   "display_name": "Python 3 (ipykernel)",
   "language": "python",
   "name": "python3"
  },
  "language_info": {
   "codemirror_mode": {
    "name": "ipython",
    "version": 3
   },
   "file_extension": ".py",
   "mimetype": "text/x-python",
   "name": "python",
   "nbconvert_exporter": "python",
   "pygments_lexer": "ipython3",
   "version": "3.12.3"
  }
 },
 "nbformat": 4,
 "nbformat_minor": 5
}
