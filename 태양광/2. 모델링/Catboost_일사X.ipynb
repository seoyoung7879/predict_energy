{
 "cells": [
  {
   "cell_type": "code",
   "execution_count": 18,
   "id": "dc2e7ad1-fdb8-4309-aae5-7b262e47b54a",
   "metadata": {},
   "outputs": [],
   "source": [
    "# 1. 데이터 불러오기\n",
    "import pandas as pd\n",
    "df = pd.read_csv(\"df_solar_real_final_yearmonthdaydate.csv\", encoding = \"utf-8\")"
   ]
  },
  {
   "cell_type": "code",
   "execution_count": 19,
   "id": "9fb99d41-30ea-44ee-8fc6-f6a8cecd892f",
   "metadata": {},
   "outputs": [
    {
     "data": {
      "text/html": [
       "<div>\n",
       "<style scoped>\n",
       "    .dataframe tbody tr th:only-of-type {\n",
       "        vertical-align: middle;\n",
       "    }\n",
       "\n",
       "    .dataframe tbody tr th {\n",
       "        vertical-align: top;\n",
       "    }\n",
       "\n",
       "    .dataframe thead th {\n",
       "        text-align: right;\n",
       "    }\n",
       "</style>\n",
       "<table border=\"1\" class=\"dataframe\">\n",
       "  <thead>\n",
       "    <tr style=\"text-align: right;\">\n",
       "      <th></th>\n",
       "      <th>발전구분</th>\n",
       "      <th>year</th>\n",
       "      <th>month</th>\n",
       "      <th>day</th>\n",
       "      <th>weekday</th>\n",
       "      <th>설비용량(MW)</th>\n",
       "      <th>시간</th>\n",
       "      <th>발전량(kWh)</th>\n",
       "      <th>연식(년)</th>\n",
       "      <th>지점명</th>\n",
       "      <th>기온(°C)</th>\n",
       "      <th>강수량(mm)</th>\n",
       "      <th>풍속(m/s)</th>\n",
       "      <th>풍향(16방위)</th>\n",
       "      <th>습도(%)</th>\n",
       "      <th>일사(MJ/m2)</th>\n",
       "      <th>적설(cm)</th>\n",
       "      <th>하늘상태</th>\n",
       "      <th>태양고도</th>\n",
       "      <th>방위각</th>\n",
       "    </tr>\n",
       "  </thead>\n",
       "  <tbody>\n",
       "    <tr>\n",
       "      <th>0</th>\n",
       "      <td>세종시폐기물매립장태양광</td>\n",
       "      <td>2017</td>\n",
       "      <td>1</td>\n",
       "      <td>1</td>\n",
       "      <td>6</td>\n",
       "      <td>1.628</td>\n",
       "      <td>1</td>\n",
       "      <td>0.0</td>\n",
       "      <td>4.6</td>\n",
       "      <td>청주</td>\n",
       "      <td>2.2</td>\n",
       "      <td>0.0</td>\n",
       "      <td>0.2</td>\n",
       "      <td>0.0</td>\n",
       "      <td>78.0</td>\n",
       "      <td>0.0</td>\n",
       "      <td>0.0</td>\n",
       "      <td>NaN</td>\n",
       "      <td>0.0</td>\n",
       "      <td>NaN</td>\n",
       "    </tr>\n",
       "    <tr>\n",
       "      <th>1</th>\n",
       "      <td>안산연성정수장태양광</td>\n",
       "      <td>2017</td>\n",
       "      <td>1</td>\n",
       "      <td>1</td>\n",
       "      <td>6</td>\n",
       "      <td>1.490</td>\n",
       "      <td>1</td>\n",
       "      <td>0.0</td>\n",
       "      <td>4.4</td>\n",
       "      <td>수원</td>\n",
       "      <td>0.1</td>\n",
       "      <td>0.0</td>\n",
       "      <td>0.3</td>\n",
       "      <td>0.0</td>\n",
       "      <td>96.0</td>\n",
       "      <td>0.0</td>\n",
       "      <td>0.0</td>\n",
       "      <td>NaN</td>\n",
       "      <td>0.0</td>\n",
       "      <td>NaN</td>\n",
       "    </tr>\n",
       "    <tr>\n",
       "      <th>2</th>\n",
       "      <td>영암에프원태양광b</td>\n",
       "      <td>2017</td>\n",
       "      <td>1</td>\n",
       "      <td>1</td>\n",
       "      <td>6</td>\n",
       "      <td>13.296</td>\n",
       "      <td>1</td>\n",
       "      <td>0.0</td>\n",
       "      <td>4.1</td>\n",
       "      <td>목포</td>\n",
       "      <td>5.0</td>\n",
       "      <td>0.0</td>\n",
       "      <td>1.8</td>\n",
       "      <td>160.0</td>\n",
       "      <td>93.0</td>\n",
       "      <td>0.0</td>\n",
       "      <td>0.0</td>\n",
       "      <td>NaN</td>\n",
       "      <td>0.0</td>\n",
       "      <td>NaN</td>\n",
       "    </tr>\n",
       "  </tbody>\n",
       "</table>\n",
       "</div>"
      ],
      "text/plain": [
       "           발전구분  year  month  day  weekday  설비용량(MW)  시간  발전량(kWh)  연식(년) 지점명  \\\n",
       "0  세종시폐기물매립장태양광  2017      1    1        6     1.628   1       0.0    4.6  청주   \n",
       "1    안산연성정수장태양광  2017      1    1        6     1.490   1       0.0    4.4  수원   \n",
       "2     영암에프원태양광b  2017      1    1        6    13.296   1       0.0    4.1  목포   \n",
       "\n",
       "   기온(°C)  강수량(mm)  풍속(m/s)  풍향(16방위)  습도(%)  일사(MJ/m2)  적설(cm)  하늘상태  태양고도  \\\n",
       "0     2.2      0.0      0.2       0.0   78.0        0.0     0.0   NaN   0.0   \n",
       "1     0.1      0.0      0.3       0.0   96.0        0.0     0.0   NaN   0.0   \n",
       "2     5.0      0.0      1.8     160.0   93.0        0.0     0.0   NaN   0.0   \n",
       "\n",
       "   방위각  \n",
       "0  NaN  \n",
       "1  NaN  \n",
       "2  NaN  "
      ]
     },
     "execution_count": 19,
     "metadata": {},
     "output_type": "execute_result"
    }
   ],
   "source": [
    "df.head(3)"
   ]
  },
  {
   "cell_type": "code",
   "execution_count": 20,
   "id": "a58f13b3-5244-40a1-aa95-5f1c496f6fd9",
   "metadata": {},
   "outputs": [],
   "source": [
    "from catboost import CatBoostRegressor, Pool\n",
    "from sklearn.model_selection import train_test_split\n",
    "from sklearn.metrics import mean_squared_error, r2_score, make_scorer\n",
    "import matplotlib.pyplot as plt\n",
    "import numpy as np\n",
    "import matplotlib\n",
    "from sklearn.model_selection import RandomizedSearchCV"
   ]
  },
  {
   "cell_type": "code",
   "execution_count": 21,
   "id": "a6483b0f-90cc-40fd-a938-e2bc77b4d16c",
   "metadata": {},
   "outputs": [],
   "source": [
    "# 사용하고 싶은 피처 선택\n",
    "features = [\n",
    "    '발전구분', 'year', 'month', 'day', 'weekday', '시간',\n",
    "    '설비용량(MW)', '연식(년)', '기온(°C)', '강수량(mm)', '풍속(m/s)',\n",
    "    '풍향(16방위)', '습도(%)', '적설(cm)', '태양고도', '하늘상태','방위각'\n",
    "]"
   ]
  },
  {
   "cell_type": "code",
   "execution_count": 22,
   "id": "1cc67fe0-8926-40cc-8c6d-ab5001bb2d26",
   "metadata": {},
   "outputs": [],
   "source": [
    "target = '발전량(kWh)'"
   ]
  },
  {
   "cell_type": "code",
   "execution_count": 23,
   "id": "f2f7e808-63c3-416a-b82f-e6771b1c2843",
   "metadata": {},
   "outputs": [
    {
     "name": "stdout",
     "output_type": "stream",
     "text": [
      "발전구분             0\n",
      "year             0\n",
      "month            0\n",
      "day              0\n",
      "weekday          0\n",
      "설비용량(MW)         0\n",
      "시간               0\n",
      "발전량(kWh)        63\n",
      "연식(년)            0\n",
      "지점명              0\n",
      "기온(°C)          23\n",
      "강수량(mm)          1\n",
      "풍속(m/s)         35\n",
      "풍향(16방위)        35\n",
      "습도(%)           45\n",
      "일사(MJ/m2)        1\n",
      "적설(cm)           1\n",
      "하늘상태          9154\n",
      "태양고도             0\n",
      "방위각          99651\n",
      "dtype: int64\n"
     ]
    }
   ],
   "source": [
    "print(df.isnull().sum())"
   ]
  },
  {
   "cell_type": "code",
   "execution_count": 24,
   "id": "a67f09fd-9540-4508-b0d4-044a7c668c0f",
   "metadata": {},
   "outputs": [],
   "source": [
    "df_model = df[features + [target]].dropna()"
   ]
  },
  {
   "cell_type": "code",
   "execution_count": 25,
   "id": "ba525547-7575-4736-8d62-6c49cd101563",
   "metadata": {},
   "outputs": [],
   "source": [
    "X = df_model[features]\n",
    "y = df_model[target]"
   ]
  },
  {
   "cell_type": "code",
   "execution_count": 26,
   "id": "61b5e1b0-3513-428e-a17c-e838159997e9",
   "metadata": {},
   "outputs": [],
   "source": [
    "# 범주형 피처 지정\n",
    "cat_features = ['발전구분']"
   ]
  },
  {
   "cell_type": "code",
   "execution_count": 27,
   "id": "3d45153d-909a-45a5-bcf8-be260a74e2c3",
   "metadata": {},
   "outputs": [],
   "source": [
    "X_train, X_test, y_train, y_test = train_test_split(X, y, test_size=0.2, random_state=42) "
   ]
  },
  {
   "cell_type": "code",
   "execution_count": 28,
   "id": "da71b48a-fe93-4cab-a746-ba8ae167e29c",
   "metadata": {},
   "outputs": [
    {
     "name": "stdout",
     "output_type": "stream",
     "text": [
      "Learning rate set to 0.081936\n",
      "0:\tlearn: 2337.9066548\ttotal: 250ms\tremaining: 4m 9s\n",
      "100:\tlearn: 662.5853855\ttotal: 10.6s\tremaining: 1m 34s\n",
      "200:\tlearn: 621.8264201\ttotal: 19.6s\tremaining: 1m 18s\n",
      "300:\tlearn: 598.4165461\ttotal: 28.9s\tremaining: 1m 7s\n",
      "400:\tlearn: 579.4936402\ttotal: 37.7s\tremaining: 56.3s\n",
      "500:\tlearn: 566.2861789\ttotal: 46.1s\tremaining: 45.9s\n",
      "600:\tlearn: 554.2360201\ttotal: 54.8s\tremaining: 36.4s\n",
      "700:\tlearn: 545.1206642\ttotal: 1m 3s\tremaining: 27s\n",
      "800:\tlearn: 535.7429091\ttotal: 1m 11s\tremaining: 17.7s\n",
      "900:\tlearn: 527.1504983\ttotal: 1m 19s\tremaining: 8.72s\n",
      "999:\tlearn: 519.6309580\ttotal: 1m 27s\tremaining: 0us\n"
     ]
    },
    {
     "data": {
      "text/plain": [
       "<catboost.core.CatBoostRegressor at 0x1861d20fb00>"
      ]
     },
     "execution_count": 28,
     "metadata": {},
     "output_type": "execute_result"
    }
   ],
   "source": [
    "model = CatBoostRegressor(verbose=100, random_state=42) #verbose : 얼마나 자주 학습 상태를 출력할지 지정\n",
    "model.fit(X_train, y_train, cat_features=cat_features)"
   ]
  },
  {
   "cell_type": "code",
   "execution_count": 29,
   "id": "370d049e-5407-47c1-9e94-7e90be4c01a1",
   "metadata": {},
   "outputs": [
    {
     "name": "stdout",
     "output_type": "stream",
     "text": [
      "RMSE: 588.1706152727803\n",
      "R² Score: 0.9458543686579702\n"
     ]
    }
   ],
   "source": [
    "# 예측\n",
    "y_pred = model.predict(X_test)\n",
    "\n",
    "# RMSE 계산\n",
    "rmse = np.sqrt(mean_squared_error(y_test, y_pred))\n",
    "# R² 점수 계산\n",
    "r2 = r2_score(y_test, y_pred)\n",
    "\n",
    "# 결과 출력\n",
    "print(\"RMSE:\", rmse) #한시간 당 평균 예측 오차 \n",
    "print(\"R² Score:\", r2) \n"
   ]
  },
  {
   "cell_type": "code",
   "execution_count": 30,
   "id": "815af7f0-3b0d-40a0-8a38-0e58e84ba7ad",
   "metadata": {},
   "outputs": [],
   "source": [
    "# 중요도 추출\n",
    "importances = model.get_feature_importance() \n",
    "importance_df = pd.DataFrame({\n",
    "    'Feature': features,\n",
    "    'Importance': importances\n",
    "}).sort_values(by='Importance', ascending=False)"
   ]
  },
  {
   "cell_type": "code",
   "execution_count": 31,
   "id": "4763c521-1f83-48dd-89fa-72050be151a5",
   "metadata": {},
   "outputs": [
    {
     "name": "stdout",
     "output_type": "stream",
     "text": [
      "     Feature  Importance\n",
      "6   설비용량(MW)   65.688480\n",
      "14      태양고도    9.438467\n",
      "15      하늘상태    8.410755\n",
      "12     습도(%)    3.979479\n",
      "5         시간    3.326220\n",
      "7      연식(년)    1.771679\n",
      "16       방위각    1.400756\n",
      "0       발전구분    1.069709\n",
      "8     기온(°C)    0.776520\n",
      "11  풍향(16방위)    0.711739\n",
      "10   풍속(m/s)    0.650380\n",
      "2      month    0.629790\n",
      "4    weekday    0.578297\n",
      "3        day    0.563122\n",
      "13    적설(cm)    0.450299\n",
      "1       year    0.296848\n",
      "9    강수량(mm)    0.257461\n"
     ]
    }
   ],
   "source": [
    "# 중요도 출력\n",
    "print(importance_df)"
   ]
  },
  {
   "cell_type": "code",
   "execution_count": 32,
   "id": "d7347a20-888b-4353-83df-9b0e6b1815be",
   "metadata": {},
   "outputs": [
    {
     "data": {
      "image/png": "[encoded data removed]",
      "text/plain": [
       "<Figure size 1000x600 with 1 Axes>"
      ]
     },
     "metadata": {},
     "output_type": "display_data"
    }
   ],
   "source": [
    "# 한글 폰트 설정 (Windows)\n",
    "matplotlib.rc('font', family='Malgun Gothic')\n",
    "plt.rcParams['axes.unicode_minus'] = False  # 마이너스 깨짐 방지\n",
    "\n",
    "# 중요도 시각화\n",
    "plt.figure(figsize=(10, 6))\n",
    "plt.barh(importance_df['Feature'], importance_df['Importance'])\n",
    "plt.gca().invert_yaxis()  # 가장 중요한 게 위로\n",
    "plt.xlabel(\"Feature Importance\")\n",
    "plt.title(\"CatBoost Feature Importance\")\n",
    "plt.tight_layout()\n",
    "plt.show()"
   ]
  },
  {
   "cell_type": "code",
   "execution_count": 45,
   "id": "749848e9-21ca-431d-a6b7-abbf9f3132a6",
   "metadata": {},
   "outputs": [
    {
     "name": "stdout",
     "output_type": "stream",
     "text": [
      "RMSE 비율: 38.31%\n"
     ]
    }
   ],
   "source": [
    "## RMSE / 평균 발전량(비율 기준)\n",
    "mean_power = y_test.mean()\n",
    "rmse_ratio = rmse / mean_power\n",
    "print(f\"RMSE 비율: {rmse_ratio:.2%}\") \n",
    "# 10%이내 : 좋은 성능\n",
    "# 20%이내 : 실용 가능\n",
    "# 20% 이상 : 개선 필요"
   ]
  }
 ],
 "metadata": {
  "kernelspec": {
   "display_name": "Python 3 (ipykernel)",
   "language": "python",
   "name": "python3"
  },
  "language_info": {
   "codemirror_mode": {
    "name": "ipython",
    "version": 3
   },
   "file_extension": ".py",
   "mimetype": "text/x-python",
   "name": "python",
   "nbconvert_exporter": "python",
   "pygments_lexer": "ipython3",
   "version": "3.12.3"
  }
 },
 "nbformat": 4,
 "nbformat_minor": 5
}
